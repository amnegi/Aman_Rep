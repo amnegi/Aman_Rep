{
 "cells": [
  {
   "cell_type": "code",
   "execution_count": 2,
   "id": "95b33295-03d3-497b-8451-faececb5dcd6",
   "metadata": {},
   "outputs": [
    {
     "name": "stdout",
     "output_type": "stream",
     "text": [
      "Hello, World!\n"
     ]
    }
   ],
   "source": [
    "#This is a comment.Can also be used to prevent execution of a code.\n",
    "print(\"Hello, World!\")"
   ]
  },
  {
   "cell_type": "code",
   "execution_count": 3,
   "id": "08751a8e-46a0-4520-a1cb-15caf502dfa7",
   "metadata": {},
   "outputs": [
    {
     "data": {
      "text/plain": [
       "'\\nThis is a comment\\nwritten in\\nmore than just one line\\n'"
      ]
     },
     "execution_count": 3,
     "metadata": {},
     "output_type": "execute_result"
    }
   ],
   "source": [
    "\"\"\"\n",
    "This is a comment\n",
    "written in\n",
    "more than just one line\n",
    "\"\"\""
   ]
  },
  {
   "cell_type": "markdown",
   "id": "13950a7f-ae2d-439c-b252-4a627ee5500d",
   "metadata": {},
   "source": [
    "# Variables and data types"
   ]
  },
  {
   "cell_type": "code",
   "execution_count": 4,
   "id": "30f0a494-0169-4621-bc3a-17b805777ec0",
   "metadata": {},
   "outputs": [
    {
     "name": "stdout",
     "output_type": "stream",
     "text": [
      "5 Hello, World!\n"
     ]
    }
   ],
   "source": [
    "x = 5\n",
    "y = \"Hello, World!\"\n",
    "print(x,y)"
   ]
  },
  {
   "cell_type": "code",
   "execution_count": 5,
   "id": "b09cb1ee-cbcc-461a-9069-793b06c6aa36",
   "metadata": {},
   "outputs": [],
   "source": [
    "x = str(3)    # x will be '3'\n",
    "y = int(3)    # y will be 3\n",
    "z = float(3)  # z will be 3.0\n",
    "# Casting"
   ]
  },
  {
   "cell_type": "code",
   "execution_count": 6,
   "id": "e46e6094-a786-4113-aef2-1ba2cc7add25",
   "metadata": {},
   "outputs": [
    {
     "name": "stdout",
     "output_type": "stream",
     "text": [
      "Orange\n",
      "Banana\n",
      "Cherry\n"
     ]
    }
   ],
   "source": [
    "x, y, z = \"Orange\", \"Banana\", \"Cherry\"\n",
    "print(x)\n",
    "print(y)\n",
    "print(z)"
   ]
  },
  {
   "cell_type": "code",
   "execution_count": 7,
   "id": "2f15083b-8e75-4473-9ef7-c12be228df26",
   "metadata": {},
   "outputs": [
    {
     "name": "stdout",
     "output_type": "stream",
     "text": [
      "Orange\n",
      "Orange\n",
      "Orange\n"
     ]
    }
   ],
   "source": [
    "x = y = z = \"Orange\"\n",
    "print(x)\n",
    "print(y)\n",
    "print(z)"
   ]
  },
  {
   "cell_type": "code",
   "execution_count": 8,
   "id": "5f5e836b-7c10-4bc3-89d0-ca0eca03ffca",
   "metadata": {},
   "outputs": [
    {
     "name": "stdout",
     "output_type": "stream",
     "text": [
      "apple\n",
      "banana\n",
      "cherry\n"
     ]
    }
   ],
   "source": [
    "fruits = [\"apple\", \"banana\", \"cherry\"]\n",
    "x, y, z = fruits\n",
    "print(x)\n",
    "print(y)\n",
    "print(z)"
   ]
  },
  {
   "cell_type": "code",
   "execution_count": 9,
   "id": "f6fc9f00-666c-410c-800e-3f4a336d14bf",
   "metadata": {},
   "outputs": [
    {
     "name": "stdout",
     "output_type": "stream",
     "text": [
      "Python is awesome\n"
     ]
    }
   ],
   "source": [
    "x = \"Python \"\n",
    "y = \"is \"\n",
    "z = \"awesome\"\n",
    "print(x + y + z)"
   ]
  },
  {
   "cell_type": "code",
   "execution_count": 10,
   "id": "89cef0e1-fd41-49f9-846b-2bcbd5491e0b",
   "metadata": {},
   "outputs": [
    {
     "name": "stdout",
     "output_type": "stream",
     "text": [
      "15\n"
     ]
    }
   ],
   "source": [
    "x = 5\n",
    "y = 10\n",
    "print(x + y)"
   ]
  },
  {
   "cell_type": "code",
   "execution_count": 11,
   "id": "ef0cce49-8770-46ff-9a83-ab37ff90d90d",
   "metadata": {},
   "outputs": [
    {
     "name": "stdout",
     "output_type": "stream",
     "text": [
      "Five is greater than two!\n"
     ]
    }
   ],
   "source": [
    "# Python Indentation is the space (minimum one is required to indidcate a block of code)\n",
    "if 5 > 2:\n",
    "  print(\"Five is greater than two!\")"
   ]
  },
  {
   "cell_type": "code",
   "execution_count": 12,
   "id": "db975466-44e1-4fe7-b647-2a9cfc2787e1",
   "metadata": {},
   "outputs": [
    {
     "name": "stdout",
     "output_type": "stream",
     "text": [
      "Python is awesome\n"
     ]
    }
   ],
   "source": [
    "x = \"awesome\"\n",
    "\n",
    "def myfunc():\n",
    "  print(\"Python is \" + x)\n",
    "\n",
    "myfunc()\n",
    "# x is a global variable"
   ]
  },
  {
   "cell_type": "code",
   "execution_count": 13,
   "id": "0c1e58f6-b67b-40f6-9683-c8d93cd698da",
   "metadata": {},
   "outputs": [
    {
     "name": "stdout",
     "output_type": "stream",
     "text": [
      "Python is fantastic\n",
      "Python is awesome\n"
     ]
    }
   ],
   "source": [
    "x = \"awesome\"\n",
    "\n",
    "def myfunc():\n",
    "  x = \"fantastic\"\n",
    "  print(\"Python is \" + x)\n",
    "\n",
    "myfunc()\n",
    "\n",
    "print(\"Python is \" + x)"
   ]
  },
  {
   "cell_type": "code",
   "execution_count": 14,
   "id": "866ed477-1256-473c-a12d-7ee31f91a6df",
   "metadata": {},
   "outputs": [
    {
     "name": "stdout",
     "output_type": "stream",
     "text": [
      "Python is fantastic\n"
     ]
    }
   ],
   "source": [
    "#If you use the global keyword, the variable belongs to the global scope:\n",
    "\n",
    "def myfunc():\n",
    "  global x\n",
    "  x = \"fantastic\"\n",
    "\n",
    "myfunc()\n",
    "\n",
    "print(\"Python is \" + x)"
   ]
  },
  {
   "cell_type": "code",
   "execution_count": 15,
   "id": "5fe82b05-da13-4294-bc27-813d1f1ef78a",
   "metadata": {},
   "outputs": [
    {
     "name": "stdout",
     "output_type": "stream",
     "text": [
      "Python is fantastic\n"
     ]
    }
   ],
   "source": [
    "#To change the value of a global variable inside a function, refer to the variable by using the global keyword:\n",
    "\n",
    "x = \"awesome\"\n",
    "\n",
    "def myfunc():\n",
    "  global x\n",
    "  x = \"fantastic\"\n",
    "\n",
    "myfunc()\n",
    "\n",
    "print(\"Python is \" + x)"
   ]
  },
  {
   "cell_type": "code",
   "execution_count": 16,
   "id": "c340b729-d3c5-44cf-8b54-5c9a2722f11a",
   "metadata": {},
   "outputs": [],
   "source": [
    "x = \"Hello World\"\t                      #str\t\n",
    "x = 20\t                                  #int\t\n",
    "x = 20.5\t                             #float\t\n",
    "x = 1j\t                                #complex\t\n",
    "x = [\"apple\", \"banana\", \"cherry\"]\t    #list\t\n",
    "x = (\"apple\", \"banana\", \"cherry\")\t    #tuple\t\n",
    "x = {\"name\" : \"John\", \"age\" : 36}\t    #dict\t\n",
    "x = {\"apple\", \"banana\", \"cherry\"}\t    #set\t\t\n",
    "x = True\t                            #bool"
   ]
  },
  {
   "cell_type": "code",
   "execution_count": 17,
   "id": "979efad6-83d4-44f5-bc90-ec86d03f4501",
   "metadata": {},
   "outputs": [
    {
     "name": "stdout",
     "output_type": "stream",
     "text": [
      "1\n"
     ]
    }
   ],
   "source": [
    "import random\n",
    "\n",
    "print(random.randrange(1, 10))"
   ]
  },
  {
   "cell_type": "markdown",
   "id": "367a388b-210b-4862-8588-f969e64c5787",
   "metadata": {},
   "source": [
    "# Strings"
   ]
  },
  {
   "cell_type": "code",
   "execution_count": 18,
   "id": "41b3ea8c-0468-4b46-accd-49278f134be8",
   "metadata": {},
   "outputs": [
    {
     "name": "stdout",
     "output_type": "stream",
     "text": [
      "e\n"
     ]
    }
   ],
   "source": [
    "a = \"Hello, World!\"\n",
    "print(a[1])\n",
    "#Strings are Arrays"
   ]
  },
  {
   "cell_type": "code",
   "execution_count": 19,
   "id": "f3394946-2488-4701-9e61-b40de0904ee8",
   "metadata": {},
   "outputs": [
    {
     "name": "stdout",
     "output_type": "stream",
     "text": [
      "True\n"
     ]
    }
   ],
   "source": [
    "#Checking if \"free\" is present in the following text:\n",
    "\n",
    "txt = \"The best things in life are free!\"\n",
    "print(\"free\" in txt)"
   ]
  },
  {
   "cell_type": "code",
   "execution_count": 20,
   "id": "bd8cf300-bdd6-428c-ac43-e85540a12f45",
   "metadata": {},
   "outputs": [
    {
     "name": "stdout",
     "output_type": "stream",
     "text": [
      "True\n"
     ]
    }
   ],
   "source": [
    "#Checking if \"expensive\" is NOT present in the following text:\n",
    "\n",
    "txt = \"The best things in life are free!\"\n",
    "print(\"expensive\" not in txt)"
   ]
  },
  {
   "cell_type": "code",
   "execution_count": 21,
   "id": "eee4652f-25c5-4f97-8ac1-2711943b0898",
   "metadata": {},
   "outputs": [
    {
     "name": "stdout",
     "output_type": "stream",
     "text": [
      "['Hello', ' World!']\n"
     ]
    }
   ],
   "source": [
    "a = \"Hello, World!\"\n",
    "print(a.split(\",\"))"
   ]
  },
  {
   "cell_type": "code",
   "execution_count": 22,
   "id": "7a10db37-1cc6-4c96-95cd-5bcb3e2da081",
   "metadata": {},
   "outputs": [
    {
     "name": "stdout",
     "output_type": "stream",
     "text": [
      "Hello World\n"
     ]
    }
   ],
   "source": [
    "a = \"Hello\"\n",
    "b = \"World\"\n",
    "c = a + \" \" + b\n",
    "print(c)"
   ]
  },
  {
   "cell_type": "code",
   "execution_count": 23,
   "id": "d399ff3b-6648-4c2b-8818-36e7d7910677",
   "metadata": {},
   "outputs": [
    {
     "name": "stdout",
     "output_type": "stream",
     "text": [
      "My name is John, I am 36\n"
     ]
    }
   ],
   "source": [
    "#Create an f-string:\n",
    "\n",
    "age = 36\n",
    "txt = f\"My name is John, I am {age}\"\n",
    "print(txt)"
   ]
  },
  {
   "cell_type": "code",
   "execution_count": 24,
   "id": "524ddffb-bb16-4a96-b3db-36eeb0f15c4c",
   "metadata": {},
   "outputs": [
    {
     "name": "stdout",
     "output_type": "stream",
     "text": [
      "The price is 59.00 dollars\n"
     ]
    }
   ],
   "source": [
    "#Display the price with 2 decimals:\n",
    "\n",
    "price = 59\n",
    "txt = f\"The price is {price:.2f} dollars\"\n",
    "print(txt)"
   ]
  },
  {
   "cell_type": "code",
   "execution_count": 26,
   "id": "6d9c61f6-9bf1-426a-85e8-de5df6cda2df",
   "metadata": {},
   "outputs": [
    {
     "data": {
      "text/plain": [
       "'We are the so-called \"Vikings\" from the north.'"
      ]
     },
     "execution_count": 26,
     "metadata": {},
     "output_type": "execute_result"
    }
   ],
   "source": [
    "#The escape character allows you to use double quotes when you normally would not be allowed:\n",
    "\n",
    "txt = \"We are the so-called \\\"Vikings\\\" from the north.\"\n",
    "txt"
   ]
  },
  {
   "cell_type": "code",
   "execution_count": 27,
   "id": "8888b78a-3acf-40df-a326-34e0f0d330b7",
   "metadata": {},
   "outputs": [],
   "source": [
    "#\\'\tSingle Quote\t\n",
    "#\\\\\tBackslash\t\n",
    "#\\n\tNew Line\t\n",
    "#\\r\tCarriage Return\t\n",
    "#\\t\tTab\t\n",
    "#\\b\tBackspace"
   ]
  },
  {
   "cell_type": "code",
   "execution_count": 28,
   "id": "f4ddce1c-6ada-4875-a301-bebda82ed97d",
   "metadata": {},
   "outputs": [],
   "source": [
    "#count()\t     Returns the number of times a specified value occurs in a string\n",
    "#endswith()\t     Returns true if the string ends with the specified value\n",
    "#find()\t         Searches the string for a specified value and returns the position of where it was found\n",
    "#format()\t     Formats specified values in a string\n",
    "#index()\t    Searches the string for a specified value and returns the position of where it was found\n",
    "#islower()\t    Returns True if all characters in the string are lower case\n",
    "#isnumeric()\tReturns True if all characters in the string are numeric\n",
    "#isprintable()\tReturns True if all characters in the string are printable\n",
    "#isupper()\t    Returns True if all characters in the string are upper case\n",
    "#join()\t        Joins the elements of an iterable to the end of the string\n",
    "#replace()\t   Returns a string where a specified value is replaced with a specified value\n",
    "#rindex()\t    Searches the string for a specified value and returns the last position of where it was found\n",
    "#split()\t     Splits the string at the specified separator, and returns a list\n",
    "#startswith()\tReturns true if the string starts with the specified value\n",
    "#title()\t    Converts the first character of each word to upper case"
   ]
  },
  {
   "cell_type": "markdown",
   "id": "60ac2300-9358-4c64-a7a6-1ca84a3f061b",
   "metadata": {},
   "source": [
    "# Operator Precedence"
   ]
  },
  {
   "cell_type": "code",
   "execution_count": null,
   "id": "948806e7-d590-4cf7-adef-e466467be675",
   "metadata": {},
   "outputs": [],
   "source": [
    "#The precedence order is described in the table below, starting with the highest precedence at the top:\n",
    "\n",
    "# ()\t              Parentheses\t\n",
    "# **\t              Exponentiation\t\n",
    "# +x , -x , ~x\t     Unary plus, unary minus, and bitwise NOT\t\n",
    "# * , / , // , %\t Multiplication, division, floor division, and modulus\t\n",
    "# + , -\t            Addition and subtraction\t\n",
    "# << , >>\t         Bitwise left and right shifts\t\n",
    "# &\t                 Bitwise AND\t\n",
    "# ^\t                 Bitwise XOR\t\n",
    "# |\t                 Bitwise OR\t\n",
    "# == , != , > , >= , < , <= , is , is ,not  in  not in \tComparisons, identity, and membership operators\t\n",
    "# not\tLogical NOT\t\n",
    "# and\tAND\t\n",
    "# or\tOR"
   ]
  },
  {
   "cell_type": "code",
   "execution_count": null,
   "id": "a4eb8bdf-f80e-41e9-ad83-d827cba537ff",
   "metadata": {},
   "outputs": [],
   "source": []
  },
  {
   "cell_type": "code",
   "execution_count": null,
   "id": "b2d5d929-3b7f-43ac-ac44-572b389c835d",
   "metadata": {},
   "outputs": [],
   "source": []
  },
  {
   "cell_type": "code",
   "execution_count": null,
   "id": "27218429-0edf-4182-a698-e6f66e4cb37e",
   "metadata": {},
   "outputs": [],
   "source": []
  },
  {
   "cell_type": "code",
   "execution_count": null,
   "id": "68676afb-50b3-4620-bd3d-fa0ede3582dc",
   "metadata": {},
   "outputs": [],
   "source": []
  },
  {
   "cell_type": "code",
   "execution_count": null,
   "id": "ed1f181b-6394-4b12-bc31-1a9ab944a5a9",
   "metadata": {},
   "outputs": [],
   "source": []
  },
  {
   "cell_type": "code",
   "execution_count": null,
   "id": "8102bb98-2b3f-4266-a2d6-8a9d97c9840a",
   "metadata": {},
   "outputs": [],
   "source": []
  },
  {
   "cell_type": "code",
   "execution_count": null,
   "id": "d89f0e79-f521-4ddc-b51e-0ef23d216e40",
   "metadata": {},
   "outputs": [],
   "source": []
  },
  {
   "cell_type": "code",
   "execution_count": null,
   "id": "586f5b28-9678-4ad6-9181-7aae8b562d5e",
   "metadata": {},
   "outputs": [],
   "source": []
  },
  {
   "cell_type": "code",
   "execution_count": null,
   "id": "3e4a6afa-3dc9-438c-8780-79a03f3ea668",
   "metadata": {},
   "outputs": [],
   "source": []
  },
  {
   "cell_type": "code",
   "execution_count": null,
   "id": "4ab743b3-ec14-4747-a09a-eb585c249b62",
   "metadata": {},
   "outputs": [],
   "source": []
  },
  {
   "cell_type": "code",
   "execution_count": null,
   "id": "e9634c15-a9c0-48ed-8b44-38f466f5319c",
   "metadata": {},
   "outputs": [],
   "source": []
  },
  {
   "cell_type": "code",
   "execution_count": null,
   "id": "7a35c6cf-267a-46af-a713-f9eb5264301f",
   "metadata": {},
   "outputs": [],
   "source": []
  }
 ],
 "metadata": {
  "kernelspec": {
   "display_name": "Python 3 (ipykernel)",
   "language": "python",
   "name": "python3"
  },
  "language_info": {
   "codemirror_mode": {
    "name": "ipython",
    "version": 3
   },
   "file_extension": ".py",
   "mimetype": "text/x-python",
   "name": "python",
   "nbconvert_exporter": "python",
   "pygments_lexer": "ipython3",
   "version": "3.13.1"
  }
 },
 "nbformat": 4,
 "nbformat_minor": 5
}
