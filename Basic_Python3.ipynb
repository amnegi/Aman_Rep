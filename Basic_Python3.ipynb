{
 "cells": [
  {
   "cell_type": "markdown",
   "id": "db36b971-46e2-4d20-9ff5-2deccbb29c5a",
   "metadata": {},
   "source": [
    "# If else"
   ]
  },
  {
   "cell_type": "code",
   "execution_count": 1,
   "id": "382d1238-35f9-44ec-ab67-5baba51ed225",
   "metadata": {},
   "outputs": [],
   "source": [
    "# Usual logical conditions:\n",
    "# Equals: a == b\n",
    "# Not Equals: a != b\n",
    "# Less than: a < b\n",
    "# Less than or equal to: a <= b\n",
    "# Greater than: a > b\n",
    "# Greater than or equal to: a >= b"
   ]
  },
  {
   "cell_type": "code",
   "execution_count": 2,
   "id": "a08d384b-be07-4b67-8cc4-5423102969ac",
   "metadata": {},
   "outputs": [
    {
     "name": "stdout",
     "output_type": "stream",
     "text": [
      "hello\n"
     ]
    }
   ],
   "source": [
    "# Indentation (tab space) required for seperating code block\n",
    "a=5\n",
    "if a==15/3:\n",
    "    print(\"hello\")"
   ]
  },
  {
   "cell_type": "code",
   "execution_count": 3,
   "id": "7769329e-2df1-4be8-9804-5d6c4e89b908",
   "metadata": {},
   "outputs": [],
   "source": [
    "if 5 == 18/3:\n",
    "    print (\"hooray!\")\n",
    "# will give no result"
   ]
  },
  {
   "cell_type": "code",
   "execution_count": 4,
   "id": "cd1e8d07-cd37-408e-874f-7c31ba9e898d",
   "metadata": {},
   "outputs": [
    {
     "name": "stdout",
     "output_type": "stream",
     "text": [
      "hooray!\n"
     ]
    }
   ],
   "source": [
    "if 5!= 3*6:\n",
    "    print (\"hooray!\")"
   ]
  },
  {
   "cell_type": "code",
   "execution_count": 5,
   "id": "14728319-db13-43e9-bdfe-d1927a80a47e",
   "metadata": {},
   "outputs": [
    {
     "name": "stdout",
     "output_type": "stream",
     "text": [
      "case 2\n"
     ]
    }
   ],
   "source": [
    "x=1\n",
    "if x>3:\n",
    "    print(\"case 1\")\n",
    "if x<=3:\n",
    "    print(\"case 2\")"
   ]
  },
  {
   "cell_type": "code",
   "execution_count": 6,
   "id": "ccebfbe2-2de1-4972-8089-aa9a2fb28983",
   "metadata": {},
   "outputs": [
    {
     "name": "stdout",
     "output_type": "stream",
     "text": [
      "case 2\n"
     ]
    }
   ],
   "source": [
    "if x>3:\n",
    "    print(\"case 1\")\n",
    "else:\n",
    "    print(\"case 2\")"
   ]
  },
  {
   "cell_type": "markdown",
   "id": "eaf9b7e9-c6e0-4702-9f37-a9bf0b28ee7f",
   "metadata": {},
   "source": [
    "### Elif"
   ]
  },
  {
   "cell_type": "code",
   "execution_count": 7,
   "id": "62b1923d-f2dc-4f22-8b21-675e54942cd6",
   "metadata": {},
   "outputs": [],
   "source": [
    "def compare_to_five(y):\n",
    "    if y > 5:\n",
    "        return \"greater\"\n",
    "    elif y < 0:\n",
    "        return \"negative\"\n",
    "    elif y < 5:\n",
    "        return \"less\"\n",
    "    else:\n",
    "        return \"equal\""
   ]
  },
  {
   "cell_type": "code",
   "execution_count": 8,
   "id": "882a642b-6552-4979-a345-05bff8148b9b",
   "metadata": {},
   "outputs": [
    {
     "name": "stdout",
     "output_type": "stream",
     "text": [
      "negative\n"
     ]
    }
   ],
   "source": [
    "print (compare_to_five(-3))"
   ]
  },
  {
   "cell_type": "code",
   "execution_count": 9,
   "id": "a21b6dbf-6b4e-45b2-98d2-d602feb59c1c",
   "metadata": {},
   "outputs": [
    {
     "name": "stdout",
     "output_type": "stream",
     "text": [
      "less\n"
     ]
    }
   ],
   "source": [
    "print (compare_to_five(3))"
   ]
  },
  {
   "cell_type": "code",
   "execution_count": 10,
   "id": "db9110fd-ef12-4142-87c9-1e9f5871a1ca",
   "metadata": {},
   "outputs": [
    {
     "name": "stdout",
     "output_type": "stream",
     "text": [
      "equal\n"
     ]
    }
   ],
   "source": [
    "print (compare_to_five(5))"
   ]
  },
  {
   "cell_type": "markdown",
   "id": "4abf35a6-a544-4a10-96f2-6f00fd25817b",
   "metadata": {},
   "source": [
    "### Shorthand if else"
   ]
  },
  {
   "cell_type": "code",
   "execution_count": 11,
   "id": "91474a52-0aba-417f-a98f-888be599a2bf",
   "metadata": {},
   "outputs": [],
   "source": [
    "# if a > b: print(\"a is greater than b\")\n",
    "# print(\"A\") if a > b else print(\"B\")"
   ]
  },
  {
   "cell_type": "markdown",
   "id": "d0ed9a27-51bb-4bd2-832f-aa5a44d62b05",
   "metadata": {},
   "source": [
    "### AND OR NOT"
   ]
  },
  {
   "cell_type": "code",
   "execution_count": 12,
   "id": "323241c8-6135-4813-9521-3d49c242f63b",
   "metadata": {},
   "outputs": [
    {
     "name": "stdout",
     "output_type": "stream",
     "text": [
      "Both conditions are True\n"
     ]
    }
   ],
   "source": [
    "# The and keyword is a logical operator, and is used to combine conditional statements:\n",
    "\n",
    "a = 200\n",
    "b = 33\n",
    "c = 500\n",
    "if a > b and c > a:\n",
    "  print(\"Both conditions are True\")"
   ]
  },
  {
   "cell_type": "code",
   "execution_count": 13,
   "id": "deae7c6d-22f0-4ced-b00f-74ac52766d7c",
   "metadata": {},
   "outputs": [
    {
     "name": "stdout",
     "output_type": "stream",
     "text": [
      "At least one of the conditions is True\n"
     ]
    }
   ],
   "source": [
    "# The or keyword is a logical operator, and is used to combine conditional statements:\n",
    "\n",
    "a = 200\n",
    "b = 33\n",
    "c = 500\n",
    "if a > b or a > c:\n",
    "  print(\"At least one of the conditions is True\")"
   ]
  },
  {
   "cell_type": "code",
   "execution_count": 14,
   "id": "251c9cbd-a1d6-4312-b657-8ab37c3193fb",
   "metadata": {},
   "outputs": [
    {
     "name": "stdout",
     "output_type": "stream",
     "text": [
      "a is NOT greater than b\n"
     ]
    }
   ],
   "source": [
    "# The not keyword is a logical operator, and is used to reverse the result of the conditional statement:\n",
    "\n",
    "a = 33\n",
    "b = 200\n",
    "if not a > b:\n",
    "  print(\"a is NOT greater than b\")"
   ]
  },
  {
   "cell_type": "markdown",
   "id": "996e9196-f0d8-476d-9295-bfb464705d51",
   "metadata": {},
   "source": [
    "### Nested If"
   ]
  },
  {
   "cell_type": "code",
   "execution_count": 15,
   "id": "d9aa3620-22dc-4cb6-86bd-ab7aa19adedf",
   "metadata": {},
   "outputs": [
    {
     "name": "stdout",
     "output_type": "stream",
     "text": [
      "Above ten,\n",
      "and also above 20!\n"
     ]
    }
   ],
   "source": [
    "# You can have if statements inside if statements, this is called nested if statements.\n",
    "\n",
    "x = 41\n",
    "if x > 10:\n",
    "  print(\"Above ten,\")\n",
    "  if x > 20:\n",
    "    print(\"and also above 20!\")\n",
    "  else:\n",
    "    print(\"but not above 20.\")"
   ]
  },
  {
   "cell_type": "markdown",
   "id": "6efc68c4-d380-49f3-b3c0-3659318222f8",
   "metadata": {},
   "source": [
    "# While Loop Iteration"
   ]
  },
  {
   "cell_type": "code",
   "execution_count": 16,
   "id": "f1bf7417-70b9-4ceb-9d2d-cb4f8aaee5c1",
   "metadata": {},
   "outputs": [
    {
     "name": "stdout",
     "output_type": "stream",
     "text": [
      "0 \t\t 0.0\n",
      "1 \t\t 1.0\n",
      "2 \t\t 1.4142135623730951\n",
      "3 \t\t 1.7320508075688772\n",
      "4 \t\t 2.0\n",
      "5 \t\t 2.23606797749979\n",
      "6 \t\t 2.449489742783178\n",
      "7 \t\t 2.6457513110645907\n",
      "8 \t\t 2.8284271247461903\n",
      "9 \t\t 3.0\n",
      "10 \t\t 3.1622776601683795\n",
      "11 \t\t 3.3166247903554\n",
      "12 \t\t 3.4641016151377544\n",
      "13 \t\t 3.605551275463989\n",
      "14 \t\t 3.7416573867739413\n",
      "15 \t\t 3.872983346207417\n",
      "16 \t\t 4.0\n",
      "17 \t\t 4.123105625617661\n",
      "18 \t\t 4.242640687119285\n",
      "19 \t\t 4.358898943540674\n",
      "20 \t\t 4.47213595499958\n",
      "21 \t\t 4.58257569495584\n",
      "22 \t\t 4.69041575982343\n",
      "23 \t\t 4.795831523312719\n",
      "24 \t\t 4.898979485566356\n",
      "25 \t\t 5.0\n",
      "26 \t\t 5.0990195135927845\n",
      "27 \t\t 5.196152422706632\n",
      "28 \t\t 5.291502622129181\n",
      "29 \t\t 5.385164807134504\n",
      "30 \t\t 5.477225575051661\n",
      "31 \t\t 5.5677643628300215\n",
      "32 \t\t 5.656854249492381\n",
      "33 \t\t 5.744562646538029\n",
      "34 \t\t 5.830951894845301\n",
      "35 \t\t 5.916079783099616\n",
      "36 \t\t 6.0\n",
      "37 \t\t 6.082762530298219\n",
      "38 \t\t 6.164414002968976\n",
      "39 \t\t 6.244997998398398\n",
      "40 \t\t 6.324555320336759\n",
      "41 \t\t 6.4031242374328485\n",
      "42 \t\t 6.48074069840786\n",
      "43 \t\t 6.557438524302\n",
      "44 \t\t 6.6332495807108\n",
      "45 \t\t 6.708203932499369\n",
      "46 \t\t 6.782329983125268\n",
      "47 \t\t 6.855654600401044\n",
      "48 \t\t 6.928203230275509\n",
      "49 \t\t 7.0\n",
      "50 \t\t 7.0710678118654755\n",
      "51 \t\t 7.14142842854285\n",
      "52 \t\t 7.211102550927978\n",
      "53 \t\t 7.280109889280518\n",
      "54 \t\t 7.3484692283495345\n",
      "55 \t\t 7.416198487095663\n",
      "56 \t\t 7.483314773547883\n",
      "57 \t\t 7.54983443527075\n",
      "58 \t\t 7.615773105863909\n",
      "59 \t\t 7.681145747868608\n",
      "60 \t\t 7.745966692414834\n",
      "61 \t\t 7.810249675906654\n",
      "62 \t\t 7.874007874011811\n",
      "63 \t\t 7.937253933193772\n",
      "64 \t\t 8.0\n",
      "65 \t\t 8.06225774829855\n",
      "66 \t\t 8.12403840463596\n",
      "67 \t\t 8.18535277187245\n",
      "68 \t\t 8.246211251235321\n",
      "69 \t\t 8.306623862918075\n",
      "70 \t\t 8.366600265340756\n",
      "71 \t\t 8.426149773176359\n",
      "72 \t\t 8.48528137423857\n",
      "73 \t\t 8.54400374531753\n",
      "74 \t\t 8.602325267042627\n",
      "75 \t\t 8.660254037844387\n",
      "76 \t\t 8.717797887081348\n",
      "77 \t\t 8.774964387392123\n",
      "78 \t\t 8.831760866327848\n",
      "79 \t\t 8.888194417315589\n",
      "80 \t\t 8.94427190999916\n",
      "81 \t\t 9.0\n",
      "82 \t\t 9.055385138137417\n",
      "83 \t\t 9.1104335791443\n",
      "84 \t\t 9.16515138991168\n",
      "85 \t\t 9.219544457292887\n",
      "86 \t\t 9.273618495495704\n",
      "87 \t\t 9.327379053088816\n",
      "88 \t\t 9.38083151964686\n",
      "89 \t\t 9.433981132056603\n",
      "90 \t\t 9.486832980505138\n",
      "91 \t\t 9.539392014169456\n",
      "92 \t\t 9.591663046625438\n",
      "93 \t\t 9.643650760992955\n",
      "94 \t\t 9.695359714832659\n",
      "95 \t\t 9.746794344808963\n",
      "96 \t\t 9.797958971132712\n",
      "97 \t\t 9.848857801796104\n",
      "98 \t\t 9.899494936611665\n",
      "99 \t\t 9.9498743710662\n",
      "100 \t\t 10.0\n",
      "Ready!\n"
     ]
    }
   ],
   "source": [
    "# Calculate sq root of 0 to 100\n",
    "# We can import math as m, OR\n",
    "from math import *\n",
    "i = 0\n",
    "while i<=100:\n",
    "    print (i, \"\\t\\t\" , sqrt(i))\n",
    "    i = i+1\n",
    "print  (\"Ready!\")"
   ]
  },
  {
   "cell_type": "code",
   "execution_count": 17,
   "id": "c7ad9f5c-76fb-4dab-8ec7-2615e77c754b",
   "metadata": {},
   "outputs": [],
   "source": [
    "# Infinite loop, to stop press ctrl + c\n",
    "# i = 0\n",
    "# while i<=5:\n",
    "#    print i"
   ]
  },
  {
   "cell_type": "code",
   "execution_count": 18,
   "id": "cecc61fd-8650-4f6d-8f14-39c83d8a7550",
   "metadata": {},
   "outputs": [
    {
     "name": "stdout",
     "output_type": "stream",
     "text": [
      "1\n",
      "2\n",
      "3\n"
     ]
    }
   ],
   "source": [
    "# With the break statement we can stop the loop even if the while condition is true:\n",
    "# Exit the loop when i is 3:\n",
    "\n",
    "i = 1\n",
    "while i < 6:\n",
    "  print(i)\n",
    "  if i == 3:\n",
    "    break\n",
    "  i += 1"
   ]
  },
  {
   "cell_type": "code",
   "execution_count": 19,
   "id": "0e574f41-b639-4d6a-bb6e-bdb014a2ba25",
   "metadata": {},
   "outputs": [
    {
     "name": "stdout",
     "output_type": "stream",
     "text": [
      "1\n",
      "2\n",
      "4\n",
      "5\n",
      "6\n"
     ]
    }
   ],
   "source": [
    "# With the continue statement we can stop the current iteration, and continue with the next:\n",
    "# Continue to the next iteration if i is 3:\n",
    "\n",
    "i = 0\n",
    "while i < 6:\n",
    "  i += 1\n",
    "  if i == 3:\n",
    "    continue\n",
    "  print(i)"
   ]
  },
  {
   "cell_type": "code",
   "execution_count": 20,
   "id": "2464c595-f505-4025-95e1-7c5c09622157",
   "metadata": {},
   "outputs": [
    {
     "name": "stdout",
     "output_type": "stream",
     "text": [
      "1\n",
      "2\n",
      "3\n",
      "4\n",
      "5\n",
      "i is no longer less than 6\n"
     ]
    }
   ],
   "source": [
    "# With the else statement we can run a block of code once when the condition no longer is true:\n",
    "# Print a message once the condition is false:\n",
    "\n",
    "i = 1\n",
    "while i < 6:\n",
    "  print(i)\n",
    "  i += 1\n",
    "else:\n",
    "  print(\"i is no longer less than 6\")"
   ]
  },
  {
   "cell_type": "code",
   "execution_count": 21,
   "id": "f0b0451f-aed6-425a-924d-e862633d4ef2",
   "metadata": {},
   "outputs": [
    {
     "name": "stdout",
     "output_type": "stream",
     "text": [
      "2 * 1 = 2\n",
      "2 * 2 = 4\n",
      "2 * 3 = 6\n",
      "2 * 4 = 8\n",
      "2 * 5 = 10\n",
      "2 * 6 = 12\n",
      "2 * 7 = 14\n",
      "2 * 8 = 16\n",
      "2 * 9 = 18\n",
      "2 * 10 = 20\n"
     ]
    }
   ],
   "source": [
    "i = 1\n",
    "while i<=10:\n",
    "    print ( 2 ,\"*\",i ,\"=\",2*i)\n",
    "    i+=1"
   ]
  },
  {
   "cell_type": "code",
   "execution_count": 23,
   "id": "d72412cb-b5c3-475e-9ef5-1dad98de305b",
   "metadata": {},
   "outputs": [
    {
     "name": "stdout",
     "output_type": "stream",
     "text": [
      "range(5, 16)\n",
      "range(4, 21, 2)\n",
      "range(15, 4, -5)\n"
     ]
    }
   ],
   "source": [
    "# End value is not included\n",
    "# r1 = range(11) for python2 or with list or for loop\n",
    "r2 = range (5,16)\n",
    "# With a gap/step of 2 \n",
    "r3 = range (4,21,2)\n",
    "# WIth a step of -5\n",
    "r4 = range (15,4,-5)\n",
    "print (r2)\n",
    "print (r3)\n",
    "print (r4)"
   ]
  },
  {
   "cell_type": "code",
   "execution_count": 24,
   "id": "fa61445e-590f-4dde-8f3b-b9f58299deba",
   "metadata": {},
   "outputs": [],
   "source": [
    "import numpy as np"
   ]
  },
  {
   "cell_type": "code",
   "execution_count": 27,
   "id": "7519c340-8204-4545-adf3-87ebc3d8e3a1",
   "metadata": {},
   "outputs": [
    {
     "name": "stdout",
     "output_type": "stream",
     "text": [
      "[ 1.    3.25  5.5   7.75 10.  ]\n"
     ]
    }
   ],
   "source": [
    "r5 = np.linspace(1,10,5)\n",
    "print (r5)"
   ]
  },
  {
   "cell_type": "markdown",
   "id": "02f7cdad-81f0-46ab-beaa-573d6546a917",
   "metadata": {},
   "source": [
    "# For loop Iteration"
   ]
  },
  {
   "cell_type": "code",
   "execution_count": 28,
   "id": "f939f21a-0ed5-4001-8461-2ed1421a39a6",
   "metadata": {},
   "outputs": [],
   "source": [
    "# range(start point, total required (-1), step or gap)\n",
    "\n",
    "# To loop through a set of code a specified number of times, we can use the range() function\n",
    "\n",
    "# The range() function returns a sequence of numbers, starting from 0 by default,\n",
    "# and increments by 1 (by default), and ends at a specified number."
   ]
  },
  {
   "cell_type": "code",
   "execution_count": 29,
   "id": "a4c1ce1a-cec9-46a5-ade3-533e163862b6",
   "metadata": {},
   "outputs": [
    {
     "name": "stdout",
     "output_type": "stream",
     "text": [
      "Hello Sam\n",
      "Hello Pit\n",
      "Hello Misch\n"
     ]
    }
   ],
   "source": [
    "mynames = [\"Sam\",\"Pit\",\"Misch\"]\n",
    "for n in mynames:\n",
    "    print (\"Hello\", n)"
   ]
  },
  {
   "cell_type": "code",
   "execution_count": 30,
   "id": "0daadeec-f409-40b0-91f8-d3183b987741",
   "metadata": {},
   "outputs": [
    {
     "name": "stdout",
     "output_type": "stream",
     "text": [
      "0 \t 0.0\n",
      "1 \t 1.0\n",
      "2 \t 1.4142135623730951\n",
      "3 \t 1.7320508075688772\n",
      "4 \t 2.0\n"
     ]
    }
   ],
   "source": [
    "for i in range (0,5):\n",
    "    print (i, \"\\t\", sqrt(i))"
   ]
  },
  {
   "cell_type": "code",
   "execution_count": 31,
   "id": "a34c20fa-08a0-4990-8cd7-4bf9f4a9435f",
   "metadata": {},
   "outputs": [
    {
     "name": "stdout",
     "output_type": "stream",
     "text": [
      "2 * 1 = 2\n",
      "2 * 2 = 4\n",
      "2 * 3 = 6\n",
      "2 * 4 = 8\n",
      "2 * 5 = 10\n",
      "2 * 6 = 12\n",
      "2 * 7 = 14\n",
      "2 * 8 = 16\n",
      "2 * 9 = 18\n",
      "2 * 10 = 20\n"
     ]
    }
   ],
   "source": [
    "# print the table of 2\n",
    "for i in range(1,11):\n",
    "    print( 2 ,\"*\",i ,\"=\",2*i)"
   ]
  },
  {
   "cell_type": "code",
   "execution_count": 32,
   "id": "208a79b2-03f4-4c45-abbf-3afb7616bd5f",
   "metadata": {},
   "outputs": [
    {
     "name": "stdout",
     "output_type": "stream",
     "text": [
      "0\n",
      "1\n",
      "2\n",
      "3\n",
      "4\n",
      "5\n",
      "Finally finished!\n"
     ]
    }
   ],
   "source": [
    "# use of else\n",
    "for x in range(6):\n",
    "  print(x)\n",
    "else:\n",
    "  print(\"Finally finished!\")"
   ]
  },
  {
   "cell_type": "markdown",
   "id": "2ddd5c1c-56a8-436c-a08f-b832be45bb0b",
   "metadata": {},
   "source": [
    "### Nested loop"
   ]
  },
  {
   "cell_type": "code",
   "execution_count": 33,
   "id": "876fd42a-39ee-4885-aac1-2d3d34ae51fd",
   "metadata": {},
   "outputs": [
    {
     "name": "stdout",
     "output_type": "stream",
     "text": [
      "red apple\n",
      "red banana\n",
      "red cherry\n",
      "big apple\n",
      "big banana\n",
      "big cherry\n",
      "tasty apple\n",
      "tasty banana\n",
      "tasty cherry\n"
     ]
    }
   ],
   "source": [
    "# The \"inner loop\" will be executed one time for each iteration of the \"outer loop\":\n",
    "# Print each adjective for every fruit:\n",
    "\n",
    "adj = [\"red\", \"big\", \"tasty\"]\n",
    "fruits = [\"apple\", \"banana\", \"cherry\"]\n",
    "\n",
    "for x in adj:\n",
    "  for y in fruits:\n",
    "    print(x, y)"
   ]
  },
  {
   "cell_type": "markdown",
   "id": "2a194d7f-1ddc-4ecd-a8c3-bfcc63f27bb0",
   "metadata": {},
   "source": [
    "# Functions"
   ]
  },
  {
   "cell_type": "code",
   "execution_count": 34,
   "id": "a3aba170-6189-4338-b90b-94a56c3000c3",
   "metadata": {},
   "outputs": [],
   "source": [
    "# In Python a function is defined using the def keyword:\n",
    "\n",
    "def my_func():\n",
    "  print(\"Hello from a function\")"
   ]
  },
  {
   "cell_type": "code",
   "execution_count": 35,
   "id": "d28b35ee-ae9d-40a3-a586-426c5aff461f",
   "metadata": {},
   "outputs": [
    {
     "name": "stdout",
     "output_type": "stream",
     "text": [
      "Hello from a function\n"
     ]
    }
   ],
   "source": [
    "# To call a function, use the function name followed by parenthesis:\n",
    "\n",
    "my_func()"
   ]
  },
  {
   "cell_type": "code",
   "execution_count": 36,
   "id": "98a24b21-8a92-4138-a3f1-6447f814cc40",
   "metadata": {},
   "outputs": [],
   "source": [
    "# Passing a List as an Argument\n",
    "# Arguments to a function (string, number, list, dictionary etc.)\n",
    "# It will be treated as the same data type inside the function."
   ]
  },
  {
   "cell_type": "code",
   "execution_count": 37,
   "id": "c8e0a91c-ab5f-44b0-8343-046d18b9c28f",
   "metadata": {},
   "outputs": [
    {
     "name": "stdout",
     "output_type": "stream",
     "text": [
      "apple\n",
      "banana\n",
      "cherry\n"
     ]
    }
   ],
   "source": [
    "# If you send a List as an argument, it will still be a List when it reaches the function:\n",
    "\n",
    "def my_function(food):\n",
    "  for x in food:\n",
    "    print(x)\n",
    "\n",
    "fruits = [\"apple\", \"banana\", \"cherry\"]\n",
    "\n",
    "my_function(fruits)"
   ]
  },
  {
   "cell_type": "code",
   "execution_count": 38,
   "id": "0ac9f6f2-e0da-4d27-8b2d-f8a62cd4a8f1",
   "metadata": {},
   "outputs": [],
   "source": [
    "# Area and perimeter of a rectangle\n",
    "def area_per(b,h):\n",
    "    A = b*h\n",
    "    P = 2*(b+h)\n",
    "    return A,P\n",
    "# returns value"
   ]
  },
  {
   "cell_type": "code",
   "execution_count": 39,
   "id": "703788ae-e061-468c-853c-47fd7a3f3e66",
   "metadata": {},
   "outputs": [
    {
     "data": {
      "text/plain": [
       "(50, 30)"
      ]
     },
     "execution_count": 39,
     "metadata": {},
     "output_type": "execute_result"
    }
   ],
   "source": [
    "area_per(10,5)\n",
    "# Here we filled arguments"
   ]
  }
 ],
 "metadata": {
  "kernelspec": {
   "display_name": "Python 3 (ipykernel)",
   "language": "python",
   "name": "python3"
  },
  "language_info": {
   "codemirror_mode": {
    "name": "ipython",
    "version": 3
   },
   "file_extension": ".py",
   "mimetype": "text/x-python",
   "name": "python",
   "nbconvert_exporter": "python",
   "pygments_lexer": "ipython3",
   "version": "3.13.1"
  }
 },
 "nbformat": 4,
 "nbformat_minor": 5
}
