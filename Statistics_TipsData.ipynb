{
 "cells": [
  {
   "cell_type": "code",
   "execution_count": 1,
   "metadata": {
    "colab": {
     "base_uri": "https://localhost:8080/",
     "height": 206
    },
    "id": "MHvyHSQ2TW7R",
    "outputId": "008c528b-8796-4804-9211-30b2366429eb"
   },
   "outputs": [
    {
     "data": {
      "text/html": [
       "<div>\n",
       "<style scoped>\n",
       "    .dataframe tbody tr th:only-of-type {\n",
       "        vertical-align: middle;\n",
       "    }\n",
       "\n",
       "    .dataframe tbody tr th {\n",
       "        vertical-align: top;\n",
       "    }\n",
       "\n",
       "    .dataframe thead th {\n",
       "        text-align: right;\n",
       "    }\n",
       "</style>\n",
       "<table border=\"1\" class=\"dataframe\">\n",
       "  <thead>\n",
       "    <tr style=\"text-align: right;\">\n",
       "      <th></th>\n",
       "      <th>total_bill</th>\n",
       "      <th>tip</th>\n",
       "      <th>sex</th>\n",
       "      <th>smoker</th>\n",
       "      <th>day</th>\n",
       "      <th>time</th>\n",
       "      <th>size</th>\n",
       "    </tr>\n",
       "  </thead>\n",
       "  <tbody>\n",
       "    <tr>\n",
       "      <th>0</th>\n",
       "      <td>16.99</td>\n",
       "      <td>1.01</td>\n",
       "      <td>Female</td>\n",
       "      <td>No</td>\n",
       "      <td>Sun</td>\n",
       "      <td>Dinner</td>\n",
       "      <td>2</td>\n",
       "    </tr>\n",
       "    <tr>\n",
       "      <th>1</th>\n",
       "      <td>10.34</td>\n",
       "      <td>1.66</td>\n",
       "      <td>Male</td>\n",
       "      <td>No</td>\n",
       "      <td>Sun</td>\n",
       "      <td>Dinner</td>\n",
       "      <td>3</td>\n",
       "    </tr>\n",
       "    <tr>\n",
       "      <th>2</th>\n",
       "      <td>21.01</td>\n",
       "      <td>3.50</td>\n",
       "      <td>Male</td>\n",
       "      <td>No</td>\n",
       "      <td>Sun</td>\n",
       "      <td>Dinner</td>\n",
       "      <td>3</td>\n",
       "    </tr>\n",
       "    <tr>\n",
       "      <th>3</th>\n",
       "      <td>23.68</td>\n",
       "      <td>3.31</td>\n",
       "      <td>Male</td>\n",
       "      <td>No</td>\n",
       "      <td>Sun</td>\n",
       "      <td>Dinner</td>\n",
       "      <td>2</td>\n",
       "    </tr>\n",
       "    <tr>\n",
       "      <th>4</th>\n",
       "      <td>24.59</td>\n",
       "      <td>3.61</td>\n",
       "      <td>Female</td>\n",
       "      <td>No</td>\n",
       "      <td>Sun</td>\n",
       "      <td>Dinner</td>\n",
       "      <td>4</td>\n",
       "    </tr>\n",
       "  </tbody>\n",
       "</table>\n",
       "</div>"
      ],
      "text/plain": [
       "   total_bill   tip     sex smoker  day    time  size\n",
       "0       16.99  1.01  Female     No  Sun  Dinner     2\n",
       "1       10.34  1.66    Male     No  Sun  Dinner     3\n",
       "2       21.01  3.50    Male     No  Sun  Dinner     3\n",
       "3       23.68  3.31    Male     No  Sun  Dinner     2\n",
       "4       24.59  3.61  Female     No  Sun  Dinner     4"
      ]
     },
     "execution_count": 1,
     "metadata": {},
     "output_type": "execute_result"
    }
   ],
   "source": [
    "import pandas as pd\n",
    "import numpy as np\n",
    "\n",
    "tips = pd.read_csv('tips.csv') #tips is my dataframe\n",
    "tips.head()#prints first 5 rows"
   ]
  },
  {
   "cell_type": "code",
   "execution_count": 2,
   "metadata": {
    "colab": {
     "base_uri": "https://localhost:8080/"
    },
    "id": "tYDJjlYKcD4r",
    "outputId": "073b0a7f-76f9-481d-a907-ed125c63edaa"
   },
   "outputs": [
    {
     "data": {
      "text/plain": [
       "array(['Female', 'Male'], dtype=object)"
      ]
     },
     "execution_count": 2,
     "metadata": {},
     "output_type": "execute_result"
    }
   ],
   "source": [
    "tips[\"sex\"].unique()\n",
    "# Value counts"
   ]
  },
  {
   "cell_type": "code",
   "execution_count": 3,
   "metadata": {
    "colab": {
     "base_uri": "https://localhost:8080/",
     "height": 178
    },
    "id": "GDRyZrpedAb-",
    "outputId": "e4e8fdc8-d128-4b40-8b4c-63fd8b558afc"
   },
   "outputs": [
    {
     "data": {
      "text/plain": [
       "sex\n",
       "Male      157\n",
       "Female     87\n",
       "Name: count, dtype: int64"
      ]
     },
     "execution_count": 3,
     "metadata": {},
     "output_type": "execute_result"
    }
   ],
   "source": [
    "tips[\"sex\"].value_counts()\n",
    "# Only for categorical data coloumns"
   ]
  },
  {
   "cell_type": "code",
   "execution_count": 4,
   "metadata": {
    "colab": {
     "base_uri": "https://localhost:8080/",
     "height": 241
    },
    "id": "VAd4e8pYfhHH",
    "outputId": "5ea72fc1-57a5-48f0-d7d0-cf412368f292"
   },
   "outputs": [
    {
     "data": {
      "text/plain": [
       "day\n",
       "Sat     87\n",
       "Sun     76\n",
       "Thur    62\n",
       "Fri     19\n",
       "Name: count, dtype: int64"
      ]
     },
     "execution_count": 4,
     "metadata": {},
     "output_type": "execute_result"
    }
   ],
   "source": [
    "tips[\"day\"].value_counts()"
   ]
  },
  {
   "cell_type": "code",
   "execution_count": 5,
   "metadata": {
    "colab": {
     "base_uri": "https://localhost:8080/",
     "height": 178
    },
    "id": "VuPulne7figt",
    "outputId": "bdf1d3c8-5ce1-4b4d-d8e0-3d81b7b45744"
   },
   "outputs": [
    {
     "data": {
      "text/plain": [
       "smoker\n",
       "No     151\n",
       "Yes     93\n",
       "Name: count, dtype: int64"
      ]
     },
     "execution_count": 5,
     "metadata": {},
     "output_type": "execute_result"
    }
   ],
   "source": [
    "tips[\"smoker\"].value_counts()"
   ]
  },
  {
   "cell_type": "code",
   "execution_count": 6,
   "metadata": {
    "colab": {
     "base_uri": "https://localhost:8080/",
     "height": 178
    },
    "id": "wLpZ-vtufjju",
    "outputId": "cde6cc5b-1b4d-41f5-ca8a-573496b4a90c"
   },
   "outputs": [
    {
     "data": {
      "text/plain": [
       "time\n",
       "Dinner    176\n",
       "Lunch      68\n",
       "Name: count, dtype: int64"
      ]
     },
     "execution_count": 6,
     "metadata": {},
     "output_type": "execute_result"
    }
   ],
   "source": [
    "tips[\"time\"].value_counts()"
   ]
  },
  {
   "cell_type": "markdown",
   "metadata": {
    "id": "BJQSDtb3eI2V"
   },
   "source": [
    "# Measures of Central Tendency"
   ]
  },
  {
   "cell_type": "code",
   "execution_count": 7,
   "metadata": {
    "colab": {
     "base_uri": "https://localhost:8080/"
    },
    "id": "Bfykt9TCdq9y",
    "outputId": "e63e0138-bd59-4ab3-d4a8-e1e333214b45"
   },
   "outputs": [
    {
     "data": {
      "text/plain": [
       "np.float64(2.99827868852459)"
      ]
     },
     "execution_count": 7,
     "metadata": {},
     "output_type": "execute_result"
    }
   ],
   "source": [
    "tips[\"tip\"].mean()"
   ]
  },
  {
   "cell_type": "code",
   "execution_count": 8,
   "metadata": {
    "colab": {
     "base_uri": "https://localhost:8080/"
    },
    "id": "Eg_DXk9Wd08W",
    "outputId": "8c51b79b-587d-4406-f9ea-7f43ab760bb2"
   },
   "outputs": [
    {
     "data": {
      "text/plain": [
       "np.float64(2.998)"
      ]
     },
     "execution_count": 8,
     "metadata": {},
     "output_type": "execute_result"
    }
   ],
   "source": [
    "round(tips[\"tip\"].mean(),3)\n",
    "# mean (best provided no outlier presence)"
   ]
  },
  {
   "cell_type": "code",
   "execution_count": 9,
   "metadata": {
    "colab": {
     "base_uri": "https://localhost:8080/",
     "height": 428
    },
    "id": "LSWnS2lNeFXj",
    "outputId": "b3a98a1f-56c7-4b39-ec07-b5b6f78607f1"
   },
   "outputs": [
    {
     "data": {
      "text/plain": [
       "<Axes: ylabel='tip'>"
      ]
     },
     "execution_count": 9,
     "metadata": {},
     "output_type": "execute_result"
    },
    {
     "data": {
      "image/png": "[encoded data removed]",
      "text/plain": [
       "<Figure size 640x480 with 1 Axes>"
      ]
     },
     "metadata": {},
     "output_type": "display_data"
    }
   ],
   "source": [
    "# box plot to detect outliers\n",
    "import seaborn as sns\n",
    "sns.boxplot(tips[\"tip\"])"
   ]
  },
  {
   "cell_type": "code",
   "execution_count": 10,
   "metadata": {
    "colab": {
     "base_uri": "https://localhost:8080/"
    },
    "id": "DhLRRDmWehaO",
    "outputId": "8259daa0-536f-4936-e953-0989a83299c6"
   },
   "outputs": [
    {
     "data": {
      "text/plain": [
       "np.float64(2.9)"
      ]
     },
     "execution_count": 10,
     "metadata": {},
     "output_type": "execute_result"
    }
   ],
   "source": [
    "# median in skewed cases\n",
    "tips[\"tip\"].median()"
   ]
  },
  {
   "cell_type": "code",
   "execution_count": 11,
   "metadata": {
    "colab": {
     "base_uri": "https://localhost:8080/",
     "height": 115
    },
    "id": "ENVQ8v9ie86g",
    "outputId": "936e908c-2485-4f92-b278-f28578dbdc67"
   },
   "outputs": [
    {
     "data": {
      "text/plain": [
       "0    Male\n",
       "Name: sex, dtype: object"
      ]
     },
     "execution_count": 11,
     "metadata": {},
     "output_type": "execute_result"
    }
   ],
   "source": [
    "# median is almost same as mean so not taking it as no significant difference\n",
    "\n",
    "# mode for categorical data\n",
    "tips[\"sex\"].mode()"
   ]
  },
  {
   "cell_type": "code",
   "execution_count": 12,
   "metadata": {
    "colab": {
     "base_uri": "https://localhost:8080/",
     "height": 115
    },
    "id": "Nx0wux6AfW4z",
    "outputId": "05c01f43-8f55-4b37-be27-aec42e7e93ee"
   },
   "outputs": [
    {
     "data": {
      "text/plain": [
       "0    Sat\n",
       "Name: day, dtype: object"
      ]
     },
     "execution_count": 12,
     "metadata": {},
     "output_type": "execute_result"
    }
   ],
   "source": [
    "tips['day'].mode()"
   ]
  },
  {
   "cell_type": "code",
   "execution_count": 13,
   "metadata": {},
   "outputs": [],
   "source": [
    "# import matplotlib.pyplot as plt\n",
    "# sns.countplot(x=tips[\"day\"])\n",
    "# plt.show()"
   ]
  },
  {
   "cell_type": "code",
   "execution_count": 14,
   "metadata": {
    "colab": {
     "base_uri": "https://localhost:8080/",
     "height": 466
    },
    "id": "R5gsyzUVgBeB",
    "outputId": "67df5abd-8764-42e9-e7ca-b18df29b7b0a"
   },
   "outputs": [
    {
     "data": {
      "text/plain": [
       "<Axes: xlabel='count', ylabel='day'>"
      ]
     },
     "execution_count": 14,
     "metadata": {},
     "output_type": "execute_result"
    },
    {
     "data": {
      "image/png": "[encoded data removed]",
      "text/plain": [
       "<Figure size 640x480 with 1 Axes>"
      ]
     },
     "metadata": {},
     "output_type": "display_data"
    }
   ],
   "source": [
    "sns.countplot(tips['day'])"
   ]
  },
  {
   "cell_type": "code",
   "execution_count": 15,
   "metadata": {
    "colab": {
     "base_uri": "https://localhost:8080/",
     "height": 466
    },
    "id": "IP5MLTKTf_sN",
    "outputId": "2cc421b8-85dd-4bd9-c7d8-6f271471c15f"
   },
   "outputs": [
    {
     "data": {
      "text/plain": [
       "<Axes: xlabel='count', ylabel='smoker'>"
      ]
     },
     "execution_count": 15,
     "metadata": {},
     "output_type": "execute_result"
    },
    {
     "data": {
      "image/png": "[encoded data removed]",
      "text/plain": [
       "<Figure size 640x480 with 1 Axes>"
      ]
     },
     "metadata": {},
     "output_type": "display_data"
    }
   ],
   "source": [
    "sns.countplot(tips['smoker'])"
   ]
  },
  {
   "cell_type": "code",
   "execution_count": 16,
   "metadata": {
    "colab": {
     "base_uri": "https://localhost:8080/",
     "height": 466
    },
    "id": "HajxEhnUfaYp",
    "outputId": "a5ad3138-fc68-4ef2-8e7a-bedf590fe008"
   },
   "outputs": [
    {
     "data": {
      "text/plain": [
       "<Axes: xlabel='count', ylabel='sex'>"
      ]
     },
     "execution_count": 16,
     "metadata": {},
     "output_type": "execute_result"
    },
    {
     "data": {
      "image/png": "[encoded data removed]",
      "text/plain": [
       "<Figure size 640x480 with 1 Axes>"
      ]
     },
     "metadata": {},
     "output_type": "display_data"
    }
   ],
   "source": [
    "sns.countplot(tips['sex'])"
   ]
  },
  {
   "cell_type": "code",
   "execution_count": 17,
   "metadata": {
    "colab": {
     "base_uri": "https://localhost:8080/",
     "height": 466
    },
    "id": "dR3HECT3gC6M",
    "outputId": "76b1e67b-0582-4c3b-dd19-76b70ffe3ed1"
   },
   "outputs": [
    {
     "data": {
      "text/plain": [
       "<Axes: xlabel='count', ylabel='time'>"
      ]
     },
     "execution_count": 17,
     "metadata": {},
     "output_type": "execute_result"
    },
    {
     "data": {
      "image/png": "[encoded data removed]",
      "text/plain": [
       "<Figure size 640x480 with 1 Axes>"
      ]
     },
     "metadata": {},
     "output_type": "display_data"
    }
   ],
   "source": [
    "sns.countplot(tips['time'])"
   ]
  },
  {
   "cell_type": "code",
   "execution_count": 18,
   "metadata": {
    "colab": {
     "base_uri": "https://localhost:8080/",
     "height": 466
    },
    "id": "oDoxaaTdgEgh",
    "outputId": "7cd75792-a14f-4fb9-d9f3-8f878e144cae"
   },
   "outputs": [
    {
     "data": {
      "text/plain": [
       "<Axes: xlabel='time', ylabel='count'>"
      ]
     },
     "execution_count": 18,
     "metadata": {},
     "output_type": "execute_result"
    },
    {
     "data": {
      "image/png": "[encoded data removed]",
      "text/plain": [
       "<Figure size 640x480 with 1 Axes>"
      ]
     },
     "metadata": {},
     "output_type": "display_data"
    }
   ],
   "source": [
    "# Coloumn graph\n",
    "sns.countplot(x= tips['time'])"
   ]
  },
  {
   "cell_type": "code",
   "execution_count": 19,
   "metadata": {
    "colab": {
     "base_uri": "https://localhost:8080/",
     "height": 303
    },
    "id": "wfg6-BajhbCu",
    "outputId": "fce6ab02-7c74-4079-d32d-713d86f6b200"
   },
   "outputs": [
    {
     "data": {
      "text/plain": [
       "total_bill    float64\n",
       "tip           float64\n",
       "sex            object\n",
       "smoker         object\n",
       "day            object\n",
       "time           object\n",
       "size            int64\n",
       "dtype: object"
      ]
     },
     "execution_count": 19,
     "metadata": {},
     "output_type": "execute_result"
    }
   ],
   "source": [
    "tips.dtypes\n",
    "# Categorical shows object data type"
   ]
  },
  {
   "cell_type": "markdown",
   "metadata": {
    "id": "t9-gYHO4iL--"
   },
   "source": [
    "# Measure of Spread/Dispersion"
   ]
  },
  {
   "cell_type": "code",
   "execution_count": 20,
   "metadata": {
    "colab": {
     "base_uri": "https://localhost:8080/"
    },
    "id": "ilksQgjihxmr",
    "outputId": "ec21bdab-24ce-48b7-8ab3-e4d7266c13fc"
   },
   "outputs": [
    {
     "data": {
      "text/plain": [
       "np.float64(9.0)"
      ]
     },
     "execution_count": 20,
     "metadata": {},
     "output_type": "execute_result"
    }
   ],
   "source": [
    "# range : difference between maximum and minimum value\n",
    "tips[\"tip\"].max() - tips[\"tip\"].min()"
   ]
  },
  {
   "cell_type": "code",
   "execution_count": 21,
   "metadata": {
    "colab": {
     "base_uri": "https://localhost:8080/"
    },
    "id": "8_vf-o2JiX2L",
    "outputId": "13f4d82a-850e-4b09-bf1b-64e22e3829de"
   },
   "outputs": [
    {
     "data": {
      "text/plain": [
       "np.float64(1.914)"
      ]
     },
     "execution_count": 21,
     "metadata": {},
     "output_type": "execute_result"
    }
   ],
   "source": [
    "# variance\n",
    "round(tips[\"tip\"].var(),3)"
   ]
  },
  {
   "cell_type": "code",
   "execution_count": 22,
   "metadata": {
    "colab": {
     "base_uri": "https://localhost:8080/"
    },
    "id": "sZ0vQyAlidPD",
    "outputId": "c5839c73-8754-42f2-e292-9755aa97a1be"
   },
   "outputs": [
    {
     "data": {
      "text/plain": [
       "np.float64(1.384)"
      ]
     },
     "execution_count": 22,
     "metadata": {},
     "output_type": "execute_result"
    }
   ],
   "source": [
    "# standard deviation\n",
    "round(tips[\"tip\"].std(),3)"
   ]
  },
  {
   "cell_type": "markdown",
   "metadata": {
    "id": "r2m0H7-Li6io"
   },
   "source": [
    "To check the level of variability see individual max and min values."
   ]
  },
  {
   "cell_type": "code",
   "execution_count": 23,
   "metadata": {
    "colab": {
     "base_uri": "https://localhost:8080/"
    },
    "id": "NA2BWkQFim-G",
    "outputId": "5bfd5efb-c1ce-4ca2-87ac-6d136463ff79"
   },
   "outputs": [
    {
     "data": {
      "text/plain": [
       "np.float64(10.0)"
      ]
     },
     "execution_count": 23,
     "metadata": {},
     "output_type": "execute_result"
    }
   ],
   "source": [
    "tips['tip'].max()"
   ]
  },
  {
   "cell_type": "code",
   "execution_count": 24,
   "metadata": {
    "colab": {
     "base_uri": "https://localhost:8080/"
    },
    "id": "JxScjgZWi0ue",
    "outputId": "527974d9-6487-410d-b287-096c4697c079"
   },
   "outputs": [
    {
     "data": {
      "text/plain": [
       "np.float64(1.0)"
      ]
     },
     "execution_count": 24,
     "metadata": {},
     "output_type": "execute_result"
    }
   ],
   "source": [
    "tips['tip'].min()"
   ]
  },
  {
   "cell_type": "code",
   "execution_count": 25,
   "metadata": {
    "colab": {
     "base_uri": "https://localhost:8080/"
    },
    "id": "xuxMeqBBi3fv",
    "outputId": "5964b500-3038-498f-8911-83a779fdacfb"
   },
   "outputs": [
    {
     "name": "stdout",
     "output_type": "stream",
     "text": [
      "Q1 : 2.0 \n",
      "Q3 : 3.5625 \n",
      "IQR : 1.56\n"
     ]
    }
   ],
   "source": [
    "# quantile\n",
    "q1,q2,q3 = np.percentile(tips[\"tip\"],[25,50,75])\n",
    "iqr = q3-q1\n",
    "print(f\"Q1 : {q1} \\nQ3 : {q3} \\nIQR : {iqr:.2f}\")"
   ]
  },
  {
   "cell_type": "code",
   "execution_count": 26,
   "metadata": {
    "colab": {
     "base_uri": "https://localhost:8080/"
    },
    "id": "W6WlVy_Ak6Rg",
    "outputId": "c8957367-f9d0-4ca1-add7-281a7905d2b2"
   },
   "outputs": [
    {
     "data": {
      "text/plain": [
       "np.float64(5.90625)"
      ]
     },
     "execution_count": 26,
     "metadata": {},
     "output_type": "execute_result"
    }
   ],
   "source": [
    "# upper whisker of boxplot showing the last limit or extreme values, above this is outliers\n",
    "q3+(1.5*iqr)"
   ]
  },
  {
   "cell_type": "code",
   "execution_count": 27,
   "metadata": {
    "colab": {
     "base_uri": "https://localhost:8080/"
    },
    "id": "kUTtzhG6luKW",
    "outputId": "f1604067-2f34-47a6-aa90-31b6842abb82"
   },
   "outputs": [
    {
     "data": {
      "text/plain": [
       "np.float64(-0.34375)"
      ]
     },
     "execution_count": 27,
     "metadata": {},
     "output_type": "execute_result"
    }
   ],
   "source": [
    "# lower threshold but here it will come negative as no outlier in lower side\n",
    "q1-(1.5*iqr)"
   ]
  },
  {
   "cell_type": "markdown",
   "metadata": {
    "id": "5j20nJGqmPGT"
   },
   "source": [
    "# Inferential Statistics"
   ]
  },
  {
   "cell_type": "markdown",
   "metadata": {},
   "source": [
    "The standard error is an inferential statistics measurement to estimate the true population parameter given the sample statistic. The standard error information is how the sample statistic would vary if we repeat the experiment with the data samples from the same population.\n",
    "\n",
    "The standard error of the mean (SEM) is the most commonly used type of standard error as it tells how well the mean would represent the population given the sample data."
   ]
  },
  {
   "cell_type": "code",
   "execution_count": 28,
   "metadata": {
    "colab": {
     "base_uri": "https://localhost:8080/"
    },
    "id": "0K3rDYVYlyjx",
    "outputId": "736543c5-3416-45c3-d793-94a44ef18c0c"
   },
   "outputs": [
    {
     "data": {
      "text/plain": [
       "np.float64(0.089)"
      ]
     },
     "execution_count": 28,
     "metadata": {},
     "output_type": "execute_result"
    }
   ],
   "source": [
    "# Standard error (possible of mean variation if data is changed or added) or variability\n",
    "from scipy.stats import sem\n",
    "round(sem(tips['tip']),3)"
   ]
  },
  {
   "cell_type": "markdown",
   "metadata": {},
   "source": [
    "We often report SEM with the data mean where the true mean population would estimated to fall within the mean ±SEM."
   ]
  },
  {
   "cell_type": "code",
   "execution_count": 29,
   "metadata": {
    "colab": {
     "base_uri": "https://localhost:8080/"
    },
    "id": "vzPAABCYteyb",
    "outputId": "a406bcbd-db6d-4acf-8eae-71ad537732a8"
   },
   "outputs": [
    {
     "name": "stdout",
     "output_type": "stream",
     "text": [
      "The true population mean is estimated to fall within the range of 3.087 to 2.9090000000000003\n"
     ]
    }
   ],
   "source": [
    "data_mean = round(tips['tip'].mean(),3)\n",
    "data_sem = round(sem(tips['tip']),3)\n",
    "\n",
    "print(f'The true population mean is estimated to fall within the range of {data_mean+data_sem} to {data_mean-data_sem}')"
   ]
  },
  {
   "cell_type": "markdown",
   "metadata": {},
   "source": [
    "### Confidence interval \n",
    "It is also used to estimate the true population parameter, but it introduces the confidence level. The confidence level estimates the true population parameters range with a certain confidence percentage.\n",
    "\n",
    "In statistics, confidence can be described as a probability. For example, a confidence interval with a 90% confidence level means that the true mean population estimate would be within the confidence interval's upper and lower values 90 out of 100 times."
   ]
  },
  {
   "cell_type": "markdown",
   "metadata": {},
   "source": [
    "![image.png](data:image/png;base64,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)"
   ]
  },
  {
   "cell_type": "code",
   "execution_count": 30,
   "metadata": {
    "colab": {
     "base_uri": "https://localhost:8080/"
    },
    "id": "JK9nJhu4rfBE",
    "outputId": "5d8d6716-4752-45c1-fee2-ba94385e2538"
   },
   "outputs": [
    {
     "data": {
      "text/plain": [
       "(np.float64(2.8235632053759354), np.float64(3.172436794624065))"
      ]
     },
     "execution_count": 30,
     "metadata": {},
     "output_type": "execute_result"
    }
   ],
   "source": [
    "import scipy.stats as st\n",
    "st.norm.interval(confidence = 0.95, loc = data_mean, scale = data_sem)"
   ]
  },
  {
   "cell_type": "markdown",
   "metadata": {
    "id": "tUiznj_jG-ei"
   },
   "source": [
    "### The above result could be interpreted that our data true population mean falls between the range 2.82 to 3.17 with 95% confidence level"
   ]
  },
  {
   "cell_type": "markdown",
   "metadata": {
    "id": "EfgN3l5ZGVo5"
   },
   "source": [
    "# Hypothesis Testing\n",
    "\n",
    "### T-test\n",
    "To demonstrate a t-test in Python, we'll use the scipy.stats module to perform an independent two-sample t-test. This test is commonly used to determine if there is a significant difference between the means of two independent groups.\n",
    "\n",
    "Here's a Python code example along with an interpretation of the results:"
   ]
  },
  {
   "cell_type": "code",
   "execution_count": 31,
   "metadata": {
    "colab": {
     "base_uri": "https://localhost:8080/"
    },
    "id": "MP3j02MPvswS",
    "outputId": "9d3647c4-1b1a-4dc0-e96f-79b4852065d7"
   },
   "outputs": [
    {
     "name": "stdout",
     "output_type": "stream",
     "text": [
      "T-statistic: -9.800000000000002\n",
      "P-value: 1.912309296901757e-06\n"
     ]
    }
   ],
   "source": [
    "import numpy as np\n",
    "from scipy.stats import ttest_ind\n",
    "\n",
    "# Sample data: Two groups of sample data\n",
    "group1 = np.array([20, 22, 19, 21, 20, 23])\n",
    "group2 = np.array([28, 30, 29, 31, 27, 29])\n",
    "\n",
    "# Performing the t-test\n",
    "t_statistic, p_value = ttest_ind(group1, group2)\n",
    "\n",
    "# Output\n",
    "print(\"T-statistic:\", t_statistic)\n",
    "print(\"P-value:\", p_value)\n"
   ]
  },
  {
   "cell_type": "markdown",
   "metadata": {
    "id": "hcjGPIiwN5HN"
   },
   "source": [
    "### Interpretation:\n",
    "\n",
    "Null Hypothesis: there is no significant difference bw the means of grp 1 and grp 2\n",
    "\n",
    "T-Statistic: The T-statistic value of -9.8 indicates the number of standard deviations the group means are apart. A large absolute value of the t-statistic (far from zero) suggests a significant difference between the two groups.\n",
    "\n",
    "P-Value: The p-value of approximately 1.91 x 10^-6 is very small, much lower than the common significance level of 0.05. A small p-value indicates that the observed difference in means between group1 and group2 is highly unlikely to have occurred under the null hypothesis (which assumes no difference in means).\n",
    "\n",
    "Based on these results, you can reject the null hypothesis and conclude that there is a statistically significant difference in the means of group1 and group2. This suggests that any observed difference in the means is not likely due to random chance."
   ]
  },
  {
   "cell_type": "markdown",
   "metadata": {
    "id": "nA6NKkDMLth6"
   },
   "source": [
    "### Chi-Squared Testing\n",
    "\n",
    "The table that shows the number of men and women buying different types of pets.\n",
    "The aim of this chi-square test is to conclude whether the two variables( gender and choice of pet ) are related to each other not.\n",
    "\n",
    "Null hypothesis: We start by defining our null hypothesis (H0) which states that there is no relation between the variables.\n",
    "\n",
    "Alternate hypothesis: It would state that there is a significant relationship between the two variables."
   ]
  },
  {
   "cell_type": "markdown",
   "metadata": {},
   "source": [
    "![image.png](data:image/png;base64,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)"
   ]
  },
  {
   "cell_type": "code",
   "execution_count": 32,
   "metadata": {
    "colab": {
     "base_uri": "https://localhost:8080/"
    },
    "id": "_wfupv_ZHlzt",
    "outputId": "02558380-28f1-49ba-dce5-f10cf7da1968"
   },
   "outputs": [
    {
     "name": "stdout",
     "output_type": "stream",
     "text": [
      "p value is0.10319714047309392\n",
      "Independent (H0 holds true)\n",
      "4.542228269825232\n"
     ]
    }
   ],
   "source": [
    "from scipy.stats import chi2_contingency\n",
    "\n",
    "# defining the table\n",
    "data = [[207,282,241],[234,242,232]] # list of lists\n",
    "\n",
    "stat,p,dof,expected = chi2_contingency(data) # dof = degree of freedom\n",
    "\n",
    "# interpret p-value\n",
    "alpha = 0.05\n",
    "print(\"p value is\"+str(p))\n",
    "\n",
    "if p <= alpha:\n",
    "    print('Dependent (reject H0)')\n",
    "else:\n",
    "    print('Independent (H0 holds true)') #failed to reject\n",
    "\n",
    "print(stat)"
   ]
  },
  {
   "cell_type": "markdown",
   "metadata": {
    "id": "vkorPJeaNfvG"
   },
   "source": [
    "Interpretation = There is no signicant relation between the above data, both are independent of each other."
   ]
  },
  {
   "cell_type": "markdown",
   "metadata": {
    "id": "rpV-XkNxNRA7"
   },
   "source": [
    "# ANOVA\n",
    "ANOVA (Analysis of Variance) is a statistical method used to test the difference between the means of more than two groups. To demonstrate how to perform ANOVA in Python, we'll use the scipy library. I'll create a sample dataset with three different groups and then perform a one-way ANOVA."
   ]
  },
  {
   "cell_type": "code",
   "execution_count": 33,
   "metadata": {
    "colab": {
     "base_uri": "https://localhost:8080/"
    },
    "id": "HpKpFdCDNWSn",
    "outputId": "2873ab89-1522-478a-d282-189779bc056c"
   },
   "outputs": [
    {
     "name": "stdout",
     "output_type": "stream",
     "text": [
      "F-Statistic: 37.83783783783786\n",
      "P-Value: 6.573743394859598e-06\n"
     ]
    }
   ],
   "source": [
    "import numpy as np\n",
    "from scipy.stats import f_oneway\n",
    "# two way is called if there is dependency between the groups\n",
    "\n",
    "# Example dataset : Sample data\n",
    "group1 = np.array([20,21,19,22,24])\n",
    "group2 = np.array([28,32,30,29,27])\n",
    "group3 = np.array([18,17,20,22,19])\n",
    "\n",
    "# Performing the one-way ANOVA\n",
    "f_statistic, p_value = f_oneway(group1,group2,group3)\n",
    "\n",
    "print(\"F-Statistic:\", f_statistic)\n",
    "print(\"P-Value:\", p_value)"
   ]
  },
  {
   "cell_type": "markdown",
   "metadata": {
    "id": "YwUpb19xQbKX"
   },
   "source": [
    "Interpretation = There is signicant difference between the means, the null hypothesis is rejected."
   ]
  },
  {
   "cell_type": "markdown",
   "metadata": {
    "id": "BPG6jQ2oSGGT"
   },
   "source": [
    "In this code:\n",
    "\n",
    "group1, group2, and group3 represent the sample data for three different groups.\n",
    "f_oneway is the function from SciPy that computes the F-statistic and p-value for the one-way ANOVA test.\n",
    "The null hypothesis for ANOVA is that all group means are equal. A low p-value (typically < 0.05) suggests you can reject the null hypothesis, indicating at least one group mean is different.\n",
    "\n",
    "You can replace group1, group2, and group3 with your own data. Each array represents the data points for one group. For accurate results, ensure that the data meets the assumptions of ANOVA, including independence of samples, normal distribution within groups, and homogeneity of variances."
   ]
  },
  {
   "cell_type": "markdown",
   "metadata": {},
   "source": [
    "Implementing a **two-way ANOVA** in Python is a bit more involved than a one-way ANOVA, as it considers the effect of two independent variables on a dependent variable. This can also include the interaction effect between the independent variables. For this, we typically use the statsmodels library, which provides a comprehensive function for ANOVA.\n",
    "\n",
    "Let's create a hypothetical dataset and perform a two-way ANOVA. Assume we have a dataset with two factors (e.g., FactorA and FactorB) and a response variable. Here's an example:"
   ]
  },
  {
   "cell_type": "markdown",
   "metadata": {},
   "source": [
    "### Creating a dataset"
   ]
  },
  {
   "cell_type": "code",
   "execution_count": 34,
   "metadata": {
    "id": "VPtwhOWiSVsq"
   },
   "outputs": [],
   "source": [
    "import pandas as pd\n",
    "import statsmodels.api as sm\n",
    "from statsmodels.formula.api import ols\n",
    "\n",
    "# Example dataset\n",
    "\n",
    "data = {\n",
    "    \"Response\": [20,21,19,22,23,24,25,19,18,17,22,23,20,21,22,18,17,16],\n",
    "    \"FactorA\": [\"A1\",\"A1\",\"A1\",\"A1\",\"A1\",\"A1\",\"A2\",\"A2\",\"A2\",\"A2\",\"A2\",\"A2\",\"A3\",\"A3\",\"A3\",\"A3\",\"A3\",\"A3\"],\n",
    "    \"FactorB\": [\"B1\",\"B1\",\"B1\",\"B2\",\"B2\",\"B2\",\"B1\",\"B1\",\"B1\",\"B2\",\"B2\",\"B2\",\"B1\",\"B1\",\"B1\",\"B1\",\"B1\",\"B1\"]\n",
    "\n",
    "}\n",
    "\n",
    "df = pd.DataFrame(data)"
   ]
  },
  {
   "cell_type": "code",
   "execution_count": 35,
   "metadata": {
    "colab": {
     "base_uri": "https://localhost:8080/",
     "height": 613
    },
    "id": "2suYXh4eUac8",
    "outputId": "a1339811-a239-4c54-eca2-c9e4a8eea21e"
   },
   "outputs": [
    {
     "data": {
      "text/html": [
       "<div>\n",
       "<style scoped>\n",
       "    .dataframe tbody tr th:only-of-type {\n",
       "        vertical-align: middle;\n",
       "    }\n",
       "\n",
       "    .dataframe tbody tr th {\n",
       "        vertical-align: top;\n",
       "    }\n",
       "\n",
       "    .dataframe thead th {\n",
       "        text-align: right;\n",
       "    }\n",
       "</style>\n",
       "<table border=\"1\" class=\"dataframe\">\n",
       "  <thead>\n",
       "    <tr style=\"text-align: right;\">\n",
       "      <th></th>\n",
       "      <th>Response</th>\n",
       "      <th>FactorA</th>\n",
       "      <th>FactorB</th>\n",
       "    </tr>\n",
       "  </thead>\n",
       "  <tbody>\n",
       "    <tr>\n",
       "      <th>0</th>\n",
       "      <td>20</td>\n",
       "      <td>A1</td>\n",
       "      <td>B1</td>\n",
       "    </tr>\n",
       "    <tr>\n",
       "      <th>1</th>\n",
       "      <td>21</td>\n",
       "      <td>A1</td>\n",
       "      <td>B1</td>\n",
       "    </tr>\n",
       "    <tr>\n",
       "      <th>2</th>\n",
       "      <td>19</td>\n",
       "      <td>A1</td>\n",
       "      <td>B1</td>\n",
       "    </tr>\n",
       "    <tr>\n",
       "      <th>3</th>\n",
       "      <td>22</td>\n",
       "      <td>A1</td>\n",
       "      <td>B2</td>\n",
       "    </tr>\n",
       "    <tr>\n",
       "      <th>4</th>\n",
       "      <td>23</td>\n",
       "      <td>A1</td>\n",
       "      <td>B2</td>\n",
       "    </tr>\n",
       "    <tr>\n",
       "      <th>5</th>\n",
       "      <td>24</td>\n",
       "      <td>A1</td>\n",
       "      <td>B2</td>\n",
       "    </tr>\n",
       "    <tr>\n",
       "      <th>6</th>\n",
       "      <td>25</td>\n",
       "      <td>A2</td>\n",
       "      <td>B1</td>\n",
       "    </tr>\n",
       "    <tr>\n",
       "      <th>7</th>\n",
       "      <td>19</td>\n",
       "      <td>A2</td>\n",
       "      <td>B1</td>\n",
       "    </tr>\n",
       "    <tr>\n",
       "      <th>8</th>\n",
       "      <td>18</td>\n",
       "      <td>A2</td>\n",
       "      <td>B1</td>\n",
       "    </tr>\n",
       "    <tr>\n",
       "      <th>9</th>\n",
       "      <td>17</td>\n",
       "      <td>A2</td>\n",
       "      <td>B2</td>\n",
       "    </tr>\n",
       "    <tr>\n",
       "      <th>10</th>\n",
       "      <td>22</td>\n",
       "      <td>A2</td>\n",
       "      <td>B2</td>\n",
       "    </tr>\n",
       "    <tr>\n",
       "      <th>11</th>\n",
       "      <td>23</td>\n",
       "      <td>A2</td>\n",
       "      <td>B2</td>\n",
       "    </tr>\n",
       "    <tr>\n",
       "      <th>12</th>\n",
       "      <td>20</td>\n",
       "      <td>A3</td>\n",
       "      <td>B1</td>\n",
       "    </tr>\n",
       "    <tr>\n",
       "      <th>13</th>\n",
       "      <td>21</td>\n",
       "      <td>A3</td>\n",
       "      <td>B1</td>\n",
       "    </tr>\n",
       "    <tr>\n",
       "      <th>14</th>\n",
       "      <td>22</td>\n",
       "      <td>A3</td>\n",
       "      <td>B1</td>\n",
       "    </tr>\n",
       "    <tr>\n",
       "      <th>15</th>\n",
       "      <td>18</td>\n",
       "      <td>A3</td>\n",
       "      <td>B1</td>\n",
       "    </tr>\n",
       "    <tr>\n",
       "      <th>16</th>\n",
       "      <td>17</td>\n",
       "      <td>A3</td>\n",
       "      <td>B1</td>\n",
       "    </tr>\n",
       "    <tr>\n",
       "      <th>17</th>\n",
       "      <td>16</td>\n",
       "      <td>A3</td>\n",
       "      <td>B1</td>\n",
       "    </tr>\n",
       "  </tbody>\n",
       "</table>\n",
       "</div>"
      ],
      "text/plain": [
       "    Response FactorA FactorB\n",
       "0         20      A1      B1\n",
       "1         21      A1      B1\n",
       "2         19      A1      B1\n",
       "3         22      A1      B2\n",
       "4         23      A1      B2\n",
       "5         24      A1      B2\n",
       "6         25      A2      B1\n",
       "7         19      A2      B1\n",
       "8         18      A2      B1\n",
       "9         17      A2      B2\n",
       "10        22      A2      B2\n",
       "11        23      A2      B2\n",
       "12        20      A3      B1\n",
       "13        21      A3      B1\n",
       "14        22      A3      B1\n",
       "15        18      A3      B1\n",
       "16        17      A3      B1\n",
       "17        16      A3      B1"
      ]
     },
     "execution_count": 35,
     "metadata": {},
     "output_type": "execute_result"
    }
   ],
   "source": [
    "df"
   ]
  },
  {
   "cell_type": "code",
   "execution_count": 36,
   "metadata": {
    "colab": {
     "base_uri": "https://localhost:8080/"
    },
    "id": "9K5P3Q1eUfkV",
    "outputId": "9e16fc21-f641-484a-93ff-be51a76e580c"
   },
   "outputs": [
    {
     "name": "stdout",
     "output_type": "stream",
     "text": [
      "                          sum_sq    df         F    PR(>F)\n",
      "C(FactorA)              6.139471   2.0  0.490654  0.495982\n",
      "C(FactorB)                   NaN   1.0       NaN       NaN\n",
      "C(FactorA):C(FactorB)  13.500000   2.0  1.078893  0.317880\n",
      "Residual               81.333333  13.0       NaN       NaN\n"
     ]
    },
    {
     "name": "stderr",
     "output_type": "stream",
     "text": [
      "C:\\Users\\Aman\\AppData\\Local\\Programs\\Python\\Python313\\Lib\\site-packages\\statsmodels\\base\\model.py:1894: ValueWarning: covariance of constraints does not have full rank. The number of constraints is 2, but rank is 1\n",
      "  warnings.warn('covariance of constraints does not have full '\n",
      "C:\\Users\\Aman\\AppData\\Local\\Programs\\Python\\Python313\\Lib\\site-packages\\statsmodels\\base\\model.py:1894: ValueWarning: covariance of constraints does not have full rank. The number of constraints is 1, but rank is 0\n",
      "  warnings.warn('covariance of constraints does not have full '\n",
      "C:\\Users\\Aman\\AppData\\Local\\Programs\\Python\\Python313\\Lib\\site-packages\\statsmodels\\base\\model.py:1923: RuntimeWarning: invalid value encountered in divide\n",
      "  F /= J\n",
      "C:\\Users\\Aman\\AppData\\Local\\Programs\\Python\\Python313\\Lib\\site-packages\\statsmodels\\base\\model.py:1894: ValueWarning: covariance of constraints does not have full rank. The number of constraints is 2, but rank is 1\n",
      "  warnings.warn('covariance of constraints does not have full '\n"
     ]
    }
   ],
   "source": [
    "# Ordinary Least Squares (OLS) model\n",
    "\n",
    "model = ols(\"Response ~ C(FactorA) + C(FactorB) + C(FactorA):C(FactorB)\", data = df).fit()\n",
    "# ~ is called tilda\n",
    "\n",
    "# Two-way ANOVA\n",
    "anova_table = sm.stats.anova_lm(model, typ = 2)\n",
    "print(anova_table)"
   ]
  },
  {
   "cell_type": "markdown",
   "metadata": {
    "id": "ED-98PczWdSb"
   },
   "source": [
    "In this code:\n",
    "\n",
    "Response is the dependent variable.\n",
    "\n",
    "FactorA and FactorB are the two independent variables.\n",
    "\n",
    "The ols function from statsmodels.formula.api is used to fit an ordinary least squares regression model.\n",
    "\n",
    "anova_lm performs the ANOVA test. typ=2 specifies the type of sum of squares to be used, which is appropriate for a balanced design.\n",
    "\n",
    "This will give you the F-statistics and p-values for each factor and their interaction, helping you determine if the factors have a significant effect on the response variable.\n",
    "\n",
    "df = degree of freedom\n",
    "F = f test value\n",
    "\n",
    "anova_lm performs the ANOVA test.\n",
    "typ=2 specifies the type of sum of squares to be used, which is appropriate.\n",
    "\n",
    "This will give you the F-statistics and p-values for each factor and their interaction, helping you determine if factors are dependent on the response variable."
   ]
  },
  {
   "cell_type": "markdown",
   "metadata": {
    "id": "Jyk6R6JEVsLX"
   },
   "source": [
    "**Interpreting these results:**\n",
    "\n",
    "The p-values for Factor A and Factor B are higher than a typical alpha level of 0.05, suggesting that neither Factor A nor Factor B have a statistically significant effect on the response variable individually.\n",
    "\n",
    "However, the interaction between Factor A and Factor B has a p-value close to 0.05, indicating that there may be a statistically significant interaction effect between these two factors on the response variable.\n",
    "\n",
    "It's important to note that the choice of alpha level for significance can vary based on the context and field of study. A p-value of 0.050402 is quite close to the commonly used threshold of 0.05.\n",
    "\n",
    "This analysis suggests that while the individual factors might not significantly influence the response, their interaction could be significant."
   ]
  },
  {
   "cell_type": "markdown",
   "metadata": {},
   "source": [
    "**Choosing the Type**\n",
    "\n",
    "Type I sum of squares are “sequential.”  In essence the factors are tested in the order they are listed in the model.\n",
    "\n",
    "\n",
    "Type III sum of squares are “partial.”  In essence, every term in the model is tested in light of every other term in the model.  That means that main effects are tested in light of interaction terms as well as in light of other main effects.\n",
    "\n",
    "\n",
    "Type II sum of squares are similar to Type III, except that they preserve the principle of marginality.  This means that main factors are tested in light of one another, but not in light of the interaction term.\n",
    "\n",
    "\n",
    "When data are balanced and the design is simple, types I, II, and III will give the same results.  But readers should be aware that results may differ for unbalanced data or more complex designs.  The code below gives an example of this."
   ]
  }
 ],
 "metadata": {
  "colab": {
   "authorship_tag": "ABX9TyOsjIhA3DhKPOwVqOS3pFJ0",
   "provenance": []
  },
  "kernelspec": {
   "display_name": "Python 3 (ipykernel)",
   "language": "python",
   "name": "python3"
  },
  "language_info": {
   "codemirror_mode": {
    "name": "ipython",
    "version": 3
   },
   "file_extension": ".py",
   "mimetype": "text/x-python",
   "name": "python",
   "nbconvert_exporter": "python",
   "pygments_lexer": "ipython3",
   "version": "3.13.1"
  }
 },
 "nbformat": 4,
 "nbformat_minor": 4
}
