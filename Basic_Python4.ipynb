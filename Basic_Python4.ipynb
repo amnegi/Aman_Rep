{
 "cells": [
  {
   "cell_type": "markdown",
   "id": "8e5d11a4-b150-40ae-8e24-62e327026a5b",
   "metadata": {},
   "source": [
    "# NumPy"
   ]
  },
  {
   "cell_type": "markdown",
   "id": "33e36213-3b4b-4af3-b58c-8a5e46a23f84",
   "metadata": {},
   "source": [
    "## Arrays"
   ]
  },
  {
   "cell_type": "code",
   "execution_count": 1,
   "id": "1ab8ff58-e33b-497e-a25d-ac46f2800826",
   "metadata": {},
   "outputs": [],
   "source": [
    "# N dimensional arrays (one dimensional vector, 2D matrix)\n",
    "# Random number capability, statistical distribution"
   ]
  },
  {
   "cell_type": "code",
   "execution_count": 2,
   "id": "d9434be0-0b85-4f89-983c-0e2d71b25de0",
   "metadata": {},
   "outputs": [],
   "source": [
    "import numpy as np"
   ]
  },
  {
   "cell_type": "code",
   "execution_count": 3,
   "id": "3f6a0be7-c4f4-4708-8d97-33e379753ce5",
   "metadata": {},
   "outputs": [
    {
     "data": {
      "text/plain": [
       "list"
      ]
     },
     "execution_count": 3,
     "metadata": {},
     "output_type": "execute_result"
    }
   ],
   "source": [
    "a = [1,2,3]\n",
    "type(a)"
   ]
  },
  {
   "cell_type": "code",
   "execution_count": 4,
   "id": "0f109af7-476f-4b38-a71c-1088b1556967",
   "metadata": {},
   "outputs": [],
   "source": [
    "# To see functions related to numpy after \"np.\" press tab"
   ]
  },
  {
   "cell_type": "code",
   "execution_count": 5,
   "id": "ecad5fb7-8caf-4522-a514-d1a849fd315d",
   "metadata": {},
   "outputs": [],
   "source": [
    "# changing type\n",
    "b = np.array(a)"
   ]
  },
  {
   "cell_type": "code",
   "execution_count": 6,
   "id": "cf650a10-7f8d-4a93-b15d-115e77a9598d",
   "metadata": {},
   "outputs": [
    {
     "data": {
      "text/plain": [
       "numpy.ndarray"
      ]
     },
     "execution_count": 6,
     "metadata": {},
     "output_type": "execute_result"
    }
   ],
   "source": [
    "type(b)"
   ]
  },
  {
   "cell_type": "code",
   "execution_count": 7,
   "id": "7dea2d51-9423-4dc0-a7af-77c3fd3968b7",
   "metadata": {},
   "outputs": [
    {
     "data": {
      "text/plain": [
       "array([0, 1, 2, 3, 4, 5, 6, 7, 8, 9])"
      ]
     },
     "execution_count": 7,
     "metadata": {},
     "output_type": "execute_result"
    }
   ],
   "source": [
    "np.array(range(0,10))"
   ]
  },
  {
   "cell_type": "code",
   "execution_count": 8,
   "id": "691930c9-2f85-4ead-a926-f6a4040daf1e",
   "metadata": {},
   "outputs": [
    {
     "data": {
      "text/plain": [
       "array([0, 1, 2, 3, 4, 5, 6, 7, 8, 9])"
      ]
     },
     "execution_count": 8,
     "metadata": {},
     "output_type": "execute_result"
    }
   ],
   "source": [
    "np.arange(0,10)\n",
    "# same as above code line, function to create array"
   ]
  },
  {
   "cell_type": "code",
   "execution_count": 9,
   "id": "50e6c660-9efa-4dd1-b208-059ce4aa4233",
   "metadata": {},
   "outputs": [
    {
     "data": {
      "text/plain": [
       "array([0., 1., 2., 3., 4., 5.])"
      ]
     },
     "execution_count": 9,
     "metadata": {},
     "output_type": "execute_result"
    }
   ],
   "source": [
    "np.linspace(0,5,6)\n",
    "# The ditance between numbers generated will be equal\n",
    "# Equally spaced from 0 to 5 will include 6 numbers\n",
    "# (start point , till what number you want , how many number between this you want)"
   ]
  },
  {
   "cell_type": "code",
   "execution_count": 10,
   "id": "da53dc9a-7817-4e72-a90f-9a8bb6c70725",
   "metadata": {},
   "outputs": [
    {
     "data": {
      "text/plain": [
       "array([0. , 0.1, 0.2, 0.3, 0.4, 0.5, 0.6, 0.7, 0.8, 0.9, 1. , 1.1, 1.2,\n",
       "       1.3, 1.4, 1.5, 1.6, 1.7, 1.8, 1.9, 2. , 2.1, 2.2, 2.3, 2.4, 2.5,\n",
       "       2.6, 2.7, 2.8, 2.9, 3. ])"
      ]
     },
     "execution_count": 10,
     "metadata": {},
     "output_type": "execute_result"
    }
   ],
   "source": [
    "np.linspace(0,3,31)"
   ]
  },
  {
   "cell_type": "code",
   "execution_count": 11,
   "id": "ce6270f4-f17d-4718-8125-c4bc32cab49c",
   "metadata": {},
   "outputs": [
    {
     "data": {
      "text/plain": [
       "array([[ 1,  2,  3],\n",
       "       [10, 20, 30]])"
      ]
     },
     "execution_count": 11,
     "metadata": {},
     "output_type": "execute_result"
    }
   ],
   "source": [
    "# 2D array = List(List)\n",
    "c = [[1,2,3],[10,20,30]]\n",
    "np.array(c)"
   ]
  },
  {
   "cell_type": "code",
   "execution_count": 12,
   "id": "a403957c-55d2-4b14-83c5-66edfaf71159",
   "metadata": {},
   "outputs": [
    {
     "data": {
      "text/plain": [
       "array([0., 0., 0., 0., 0.])"
      ]
     },
     "execution_count": 12,
     "metadata": {},
     "output_type": "execute_result"
    }
   ],
   "source": [
    "np.zeros(5)\n",
    "# 1D"
   ]
  },
  {
   "cell_type": "code",
   "execution_count": 13,
   "id": "f074af6c-4f8d-49fd-b15a-f7e1aca8d2e2",
   "metadata": {},
   "outputs": [
    {
     "data": {
      "text/plain": [
       "array([[0., 0., 0., 0., 0.],\n",
       "       [0., 0., 0., 0., 0.],\n",
       "       [0., 0., 0., 0., 0.]])"
      ]
     },
     "execution_count": 13,
     "metadata": {},
     "output_type": "execute_result"
    }
   ],
   "source": [
    "np.zeros((3,5))\n",
    "# Multidimensional by tuple, 3 rows X 5 columns"
   ]
  },
  {
   "cell_type": "code",
   "execution_count": 14,
   "id": "90f46652-ba5a-481d-a7ff-dea6fe4e9f90",
   "metadata": {},
   "outputs": [
    {
     "data": {
      "text/plain": [
       "array([0, 1, 2, 3, 4, 5, 6, 7, 8, 9])"
      ]
     },
     "execution_count": 14,
     "metadata": {},
     "output_type": "execute_result"
    }
   ],
   "source": [
    "first_ten = np.arange(0,10)\n",
    "first_ten"
   ]
  },
  {
   "cell_type": "code",
   "execution_count": 15,
   "id": "4eed1b5d-0bc2-4d56-b1fc-131c0c0597c5",
   "metadata": {},
   "outputs": [
    {
     "data": {
      "text/plain": [
       "np.int64(3)"
      ]
     },
     "execution_count": 15,
     "metadata": {},
     "output_type": "execute_result"
    }
   ],
   "source": [
    "first_ten[3]"
   ]
  },
  {
   "cell_type": "code",
   "execution_count": 16,
   "id": "28fba9b2-e506-4b86-985a-dffd391fe247",
   "metadata": {},
   "outputs": [],
   "source": [
    "# Slicing and Dicing\n",
    "# [Start from this index (including), End is excluded, ]"
   ]
  },
  {
   "cell_type": "code",
   "execution_count": 17,
   "id": "6726b3a2-18de-4f3f-a0bc-b5e9b8e8d0eb",
   "metadata": {},
   "outputs": [
    {
     "data": {
      "text/plain": [
       "array([3, 4])"
      ]
     },
     "execution_count": 17,
     "metadata": {},
     "output_type": "execute_result"
    }
   ],
   "source": [
    "first_ten[3:5]"
   ]
  },
  {
   "cell_type": "code",
   "execution_count": 18,
   "id": "d6290973-5476-4fbb-ac3f-0faf38c070e5",
   "metadata": {},
   "outputs": [
    {
     "data": {
      "text/plain": [
       "array([0, 1])"
      ]
     },
     "execution_count": 18,
     "metadata": {},
     "output_type": "execute_result"
    }
   ],
   "source": [
    "first_ten[:2]"
   ]
  },
  {
   "cell_type": "code",
   "execution_count": 19,
   "id": "128fda11-2415-407b-8c7a-4f060bfea688",
   "metadata": {},
   "outputs": [
    {
     "data": {
      "text/plain": [
       "array([6, 7, 8, 9])"
      ]
     },
     "execution_count": 19,
     "metadata": {},
     "output_type": "execute_result"
    }
   ],
   "source": [
    "first_ten[6:]"
   ]
  },
  {
   "cell_type": "code",
   "execution_count": 20,
   "id": "ebaa6874-58b3-4829-80c5-4f04b0acf51c",
   "metadata": {},
   "outputs": [
    {
     "data": {
      "text/plain": [
       "array([[ 0.,  1.,  2.,  3.,  4.,  5.,  6.,  7.,  8.,  9.],\n",
       "       [10., 11., 12., 13., 14., 15., 16., 17., 18., 19.],\n",
       "       [20., 21., 22., 23., 24., 25., 26., 27., 28., 29.]])"
      ]
     },
     "execution_count": 20,
     "metadata": {},
     "output_type": "execute_result"
    }
   ],
   "source": [
    "first_thirty = np.linspace(0,29,30)\n",
    "three_by_ten = first_thirty.reshape(3,10)\n",
    "three_by_ten"
   ]
  },
  {
   "cell_type": "code",
   "execution_count": 21,
   "id": "1c3c3b92-a391-4572-b03c-eaf7215acf56",
   "metadata": {},
   "outputs": [
    {
     "data": {
      "text/plain": [
       "(3, 10)"
      ]
     },
     "execution_count": 21,
     "metadata": {},
     "output_type": "execute_result"
    }
   ],
   "source": [
    "three_by_ten.shape"
   ]
  },
  {
   "cell_type": "markdown",
   "id": "83f48bdf-c56b-4d39-9dca-1da0b6b186f6",
   "metadata": {},
   "source": [
    "## Operations in NumPy"
   ]
  },
  {
   "cell_type": "code",
   "execution_count": 22,
   "id": "fd57e3b9-614a-4ed6-bed2-86653cf57476",
   "metadata": {},
   "outputs": [
    {
     "data": {
      "text/plain": [
       "array([10, 11, 12, 13, 14, 15, 16, 17, 18, 19])"
      ]
     },
     "execution_count": 22,
     "metadata": {},
     "output_type": "execute_result"
    }
   ],
   "source": [
    "first_ten + 10"
   ]
  },
  {
   "cell_type": "code",
   "execution_count": 23,
   "id": "0429c178-7f0b-4afa-926f-022a367e5c34",
   "metadata": {},
   "outputs": [
    {
     "data": {
      "text/plain": [
       "array([-10,  -9,  -8,  -7,  -6,  -5,  -4,  -3,  -2,  -1])"
      ]
     },
     "execution_count": 23,
     "metadata": {},
     "output_type": "execute_result"
    }
   ],
   "source": [
    "first_ten - 10"
   ]
  },
  {
   "cell_type": "code",
   "execution_count": 24,
   "id": "0c077c0f-aa23-43cd-9f91-feea642d695e",
   "metadata": {},
   "outputs": [
    {
     "data": {
      "text/plain": [
       "array([ 0,  2,  4,  6,  8, 10, 12, 14, 16, 18])"
      ]
     },
     "execution_count": 24,
     "metadata": {},
     "output_type": "execute_result"
    }
   ],
   "source": [
    "first_ten + first_ten"
   ]
  },
  {
   "cell_type": "code",
   "execution_count": 25,
   "id": "aa3f05f8-3e91-4da1-a312-89cff442b536",
   "metadata": {},
   "outputs": [
    {
     "data": {
      "text/plain": [
       "array([ 0,  1,  4,  9, 16, 25, 36, 49, 64, 81])"
      ]
     },
     "execution_count": 25,
     "metadata": {},
     "output_type": "execute_result"
    }
   ],
   "source": [
    "first_ten * first_ten"
   ]
  },
  {
   "cell_type": "code",
   "execution_count": 26,
   "id": "a52aabc1-a5cf-4892-8e5f-72a6461d71fc",
   "metadata": {},
   "outputs": [
    {
     "data": {
      "text/plain": [
       "array([10,  1,  2,  3,  4,  5,  6,  7,  8,  9])"
      ]
     },
     "execution_count": 26,
     "metadata": {},
     "output_type": "execute_result"
    }
   ],
   "source": [
    "# Change element\n",
    "first_ten[0] = 10\n",
    "first_ten"
   ]
  },
  {
   "cell_type": "code",
   "execution_count": 27,
   "id": "0c792488-c9fb-4ea1-aa4d-a67a3bd6517c",
   "metadata": {},
   "outputs": [],
   "source": [
    "# Set all elements to 10 by giving no range in slicing\n",
    "first_ten[:] = 10"
   ]
  },
  {
   "cell_type": "code",
   "execution_count": 28,
   "id": "7d6fe5ab-9d2d-4344-9ba5-866cf29c6621",
   "metadata": {},
   "outputs": [
    {
     "name": "stdout",
     "output_type": "stream",
     "text": [
      "[10 10 10 10 10 10 10 10 10 10]\n"
     ]
    }
   ],
   "source": [
    "first_ten\n",
    "print (first_ten)"
   ]
  },
  {
   "cell_type": "code",
   "execution_count": 29,
   "id": "9d9ccc2e-74ba-436c-8cb7-f40b7c522a4a",
   "metadata": {},
   "outputs": [],
   "source": [
    "first_ten = np.arange(0,10)\n",
    "first_five = first_ten[0:5]"
   ]
  },
  {
   "cell_type": "code",
   "execution_count": 30,
   "id": "1932a418-ccfb-4eb3-bcde-346a3cb8d3a8",
   "metadata": {},
   "outputs": [
    {
     "data": {
      "text/plain": [
       "array([0, 1, 2, 3, 4])"
      ]
     },
     "execution_count": 30,
     "metadata": {},
     "output_type": "execute_result"
    }
   ],
   "source": [
    "first_ten\n",
    "first_five"
   ]
  },
  {
   "cell_type": "code",
   "execution_count": 31,
   "id": "d0938336-c44d-4769-a25c-b7416facb489",
   "metadata": {},
   "outputs": [
    {
     "data": {
      "text/plain": [
       "array([0, 0, 0, 0, 0])"
      ]
     },
     "execution_count": 31,
     "metadata": {},
     "output_type": "execute_result"
    }
   ],
   "source": [
    "# Broadcasting done changes to all\n",
    "first_five[:] = 0\n",
    "first_five"
   ]
  },
  {
   "cell_type": "code",
   "execution_count": 32,
   "id": "109b1b3c-a167-4ab1-92b0-fd00ffa169cd",
   "metadata": {},
   "outputs": [
    {
     "data": {
      "text/plain": [
       "array([0, 0, 0, 0, 0, 5, 6, 7, 8, 9])"
      ]
     },
     "execution_count": 32,
     "metadata": {},
     "output_type": "execute_result"
    }
   ],
   "source": [
    "first_ten"
   ]
  },
  {
   "cell_type": "markdown",
   "id": "71a6548b-f14a-4670-9678-0ac5faa742c7",
   "metadata": {},
   "source": [
    "# Pandas"
   ]
  },
  {
   "cell_type": "code",
   "execution_count": 33,
   "id": "5a10cad9-4a60-4fa8-9bd7-1005451dcec8",
   "metadata": {},
   "outputs": [],
   "source": [
    "import pandas as pd"
   ]
  },
  {
   "cell_type": "code",
   "execution_count": 34,
   "id": "2cfc7d06-ad4f-4dfc-88fd-ed291333d9a6",
   "metadata": {},
   "outputs": [],
   "source": [
    "mydays = ['Sun','Mon','Tue']\n",
    "myexp = [34,44,29] # expenses"
   ]
  },
  {
   "cell_type": "code",
   "execution_count": 35,
   "id": "e988fef8-9405-4f57-af58-58d7cf6170ce",
   "metadata": {},
   "outputs": [
    {
     "data": {
      "text/plain": [
       "list"
      ]
     },
     "execution_count": 35,
     "metadata": {},
     "output_type": "execute_result"
    }
   ],
   "source": [
    "type(myexp)"
   ]
  },
  {
   "cell_type": "code",
   "execution_count": 36,
   "id": "10110fc6-94fd-4d96-8193-86b907034b73",
   "metadata": {},
   "outputs": [],
   "source": [
    "a_mydays = np.array(mydays)\n",
    "a_myexp = np.array(myexp)"
   ]
  },
  {
   "cell_type": "code",
   "execution_count": 37,
   "id": "7fc64c68-eacd-4d51-a49e-18e36378a709",
   "metadata": {},
   "outputs": [
    {
     "data": {
      "text/plain": [
       "array([34, 44, 29])"
      ]
     },
     "execution_count": 37,
     "metadata": {},
     "output_type": "execute_result"
    }
   ],
   "source": [
    "type(a_myexp)\n",
    "a_myexp "
   ]
  },
  {
   "cell_type": "code",
   "execution_count": 38,
   "id": "0ec5650f-f672-464d-9063-8e37a083fbac",
   "metadata": {},
   "outputs": [
    {
     "data": {
      "text/plain": [
       "0    34\n",
       "1    44\n",
       "2    29\n",
       "dtype: int64"
      ]
     },
     "execution_count": 38,
     "metadata": {},
     "output_type": "execute_result"
    }
   ],
   "source": [
    "pd.Series(a_myexp)"
   ]
  },
  {
   "cell_type": "code",
   "execution_count": 39,
   "id": "ea9c286a-05e7-42a3-be46-6869dab5bd09",
   "metadata": {},
   "outputs": [
    {
     "data": {
      "text/plain": [
       "0    34\n",
       "1    44\n",
       "2    29\n",
       "dtype: int64"
      ]
     },
     "execution_count": 39,
     "metadata": {},
     "output_type": "execute_result"
    }
   ],
   "source": [
    "pd.Series(myexp)"
   ]
  },
  {
   "cell_type": "code",
   "execution_count": 40,
   "id": "6882665a-5fb9-486a-8cdf-da54db650440",
   "metadata": {},
   "outputs": [
    {
     "data": {
      "text/plain": [
       "Sun    34\n",
       "Mon    44\n",
       "Tue    29\n",
       "dtype: int64"
      ]
     },
     "execution_count": 40,
     "metadata": {},
     "output_type": "execute_result"
    }
   ],
   "source": [
    "pd.Series(a_myexp,a_mydays)"
   ]
  },
  {
   "cell_type": "code",
   "execution_count": 41,
   "id": "82ae5dba-b501-49cb-b253-029ad2194ef5",
   "metadata": {},
   "outputs": [
    {
     "data": {
      "text/plain": [
       "Sun    34\n",
       "Mon    44\n",
       "Tue    29\n",
       "dtype: int64"
      ]
     },
     "execution_count": 41,
     "metadata": {},
     "output_type": "execute_result"
    }
   ],
   "source": [
    "s_myexp = pd.Series(data = a_myexp, index = a_mydays)\n",
    "s_myexp"
   ]
  },
  {
   "cell_type": "code",
   "execution_count": 42,
   "id": "4b095de3-44a3-45ff-a0ee-485c7fb558e4",
   "metadata": {},
   "outputs": [],
   "source": [
    "# Pandas array is better than NumPy as it has actual look and feel, with data displayed as rows and coloumns"
   ]
  },
  {
   "cell_type": "code",
   "execution_count": 43,
   "id": "dd5b7092-ec76-400b-bd63-f8bed98797a0",
   "metadata": {},
   "outputs": [
    {
     "data": {
      "text/plain": [
       "np.int64(34)"
      ]
     },
     "execution_count": 43,
     "metadata": {},
     "output_type": "execute_result"
    }
   ],
   "source": [
    "# My expense on Monday\n",
    "a_myexp[0]"
   ]
  },
  {
   "cell_type": "markdown",
   "id": "559e02c9-3685-44f8-b1ca-acc58163426c",
   "metadata": {},
   "source": [
    "# Pandas Dataframe"
   ]
  },
  {
   "cell_type": "code",
   "execution_count": 44,
   "id": "fb828fd3-3ad9-4f76-a6ab-b82976abc512",
   "metadata": {},
   "outputs": [
    {
     "data": {
      "text/plain": [
       "array([1, 2, 3, 4, 5, 6, 7, 8, 9])"
      ]
     },
     "execution_count": 44,
     "metadata": {},
     "output_type": "execute_result"
    }
   ],
   "source": [
    "my_nums = np.arange(1,10)\n",
    "my_nums"
   ]
  },
  {
   "cell_type": "code",
   "execution_count": 45,
   "id": "84015e3f-b5b7-46fc-90ba-14fab4f7f8c3",
   "metadata": {},
   "outputs": [
    {
     "data": {
      "text/plain": [
       "array([[1, 2, 3],\n",
       "       [4, 5, 6],\n",
       "       [7, 8, 9]])"
      ]
     },
     "execution_count": 45,
     "metadata": {},
     "output_type": "execute_result"
    }
   ],
   "source": [
    "# 1D array to 3X3 matrix\n",
    "my_nums = np.reshape(my_nums, (3, 3))\n",
    "my_nums"
   ]
  },
  {
   "cell_type": "code",
   "execution_count": 46,
   "id": "2f4c1a85-6ac0-4288-9ad3-5b662751d18e",
   "metadata": {},
   "outputs": [
    {
     "data": {
      "text/html": [
       "<div>\n",
       "<style scoped>\n",
       "    .dataframe tbody tr th:only-of-type {\n",
       "        vertical-align: middle;\n",
       "    }\n",
       "\n",
       "    .dataframe tbody tr th {\n",
       "        vertical-align: top;\n",
       "    }\n",
       "\n",
       "    .dataframe thead th {\n",
       "        text-align: right;\n",
       "    }\n",
       "</style>\n",
       "<table border=\"1\" class=\"dataframe\">\n",
       "  <thead>\n",
       "    <tr style=\"text-align: right;\">\n",
       "      <th></th>\n",
       "      <th>0</th>\n",
       "      <th>1</th>\n",
       "      <th>2</th>\n",
       "    </tr>\n",
       "  </thead>\n",
       "  <tbody>\n",
       "    <tr>\n",
       "      <th>0</th>\n",
       "      <td>1</td>\n",
       "      <td>2</td>\n",
       "      <td>3</td>\n",
       "    </tr>\n",
       "    <tr>\n",
       "      <th>1</th>\n",
       "      <td>4</td>\n",
       "      <td>5</td>\n",
       "      <td>6</td>\n",
       "    </tr>\n",
       "    <tr>\n",
       "      <th>2</th>\n",
       "      <td>7</td>\n",
       "      <td>8</td>\n",
       "      <td>9</td>\n",
       "    </tr>\n",
       "  </tbody>\n",
       "</table>\n",
       "</div>"
      ],
      "text/plain": [
       "   0  1  2\n",
       "0  1  2  3\n",
       "1  4  5  6\n",
       "2  7  8  9"
      ]
     },
     "execution_count": 46,
     "metadata": {},
     "output_type": "execute_result"
    }
   ],
   "source": [
    "pd.DataFrame(my_nums) # rows and coloumns format with index"
   ]
  },
  {
   "cell_type": "code",
   "execution_count": 47,
   "id": "7ccca070-004e-48fa-9ce9-5209d684bad6",
   "metadata": {},
   "outputs": [],
   "source": [
    "my_index = ['Row 1','Row 2','Row 3']\n",
    "my_col = ['Col 1','Col 2','Col 3']"
   ]
  },
  {
   "cell_type": "code",
   "execution_count": 48,
   "id": "c7e744bc-b205-459a-ba3e-618636539031",
   "metadata": {},
   "outputs": [
    {
     "data": {
      "text/html": [
       "<div>\n",
       "<style scoped>\n",
       "    .dataframe tbody tr th:only-of-type {\n",
       "        vertical-align: middle;\n",
       "    }\n",
       "\n",
       "    .dataframe tbody tr th {\n",
       "        vertical-align: top;\n",
       "    }\n",
       "\n",
       "    .dataframe thead th {\n",
       "        text-align: right;\n",
       "    }\n",
       "</style>\n",
       "<table border=\"1\" class=\"dataframe\">\n",
       "  <thead>\n",
       "    <tr style=\"text-align: right;\">\n",
       "      <th></th>\n",
       "      <th>Col 1</th>\n",
       "      <th>Col 2</th>\n",
       "      <th>Col 3</th>\n",
       "    </tr>\n",
       "  </thead>\n",
       "  <tbody>\n",
       "    <tr>\n",
       "      <th>Row 1</th>\n",
       "      <td>1</td>\n",
       "      <td>2</td>\n",
       "      <td>3</td>\n",
       "    </tr>\n",
       "    <tr>\n",
       "      <th>Row 2</th>\n",
       "      <td>4</td>\n",
       "      <td>5</td>\n",
       "      <td>6</td>\n",
       "    </tr>\n",
       "    <tr>\n",
       "      <th>Row 3</th>\n",
       "      <td>7</td>\n",
       "      <td>8</td>\n",
       "      <td>9</td>\n",
       "    </tr>\n",
       "  </tbody>\n",
       "</table>\n",
       "</div>"
      ],
      "text/plain": [
       "       Col 1  Col 2  Col 3\n",
       "Row 1      1      2      3\n",
       "Row 2      4      5      6\n",
       "Row 3      7      8      9"
      ]
     },
     "execution_count": 48,
     "metadata": {},
     "output_type": "execute_result"
    }
   ],
   "source": [
    "df = pd.DataFrame(data = my_nums, index = my_index, columns = my_col)\n",
    "df"
   ]
  },
  {
   "cell_type": "code",
   "execution_count": 49,
   "id": "b47726f9-43f4-4ed6-a0de-5d850198d682",
   "metadata": {},
   "outputs": [
    {
     "data": {
      "text/html": [
       "<div>\n",
       "<style scoped>\n",
       "    .dataframe tbody tr th:only-of-type {\n",
       "        vertical-align: middle;\n",
       "    }\n",
       "\n",
       "    .dataframe tbody tr th {\n",
       "        vertical-align: top;\n",
       "    }\n",
       "\n",
       "    .dataframe thead th {\n",
       "        text-align: right;\n",
       "    }\n",
       "</style>\n",
       "<table border=\"1\" class=\"dataframe\">\n",
       "  <thead>\n",
       "    <tr style=\"text-align: right;\">\n",
       "      <th></th>\n",
       "      <th>A</th>\n",
       "      <th>B</th>\n",
       "      <th>index</th>\n",
       "    </tr>\n",
       "  </thead>\n",
       "  <tbody>\n",
       "    <tr>\n",
       "      <th>0</th>\n",
       "      <td>1</td>\n",
       "      <td>4</td>\n",
       "      <td>7</td>\n",
       "    </tr>\n",
       "    <tr>\n",
       "      <th>1</th>\n",
       "      <td>2</td>\n",
       "      <td>5</td>\n",
       "      <td>8</td>\n",
       "    </tr>\n",
       "    <tr>\n",
       "      <th>2</th>\n",
       "      <td>3</td>\n",
       "      <td>6</td>\n",
       "      <td>9</td>\n",
       "    </tr>\n",
       "  </tbody>\n",
       "</table>\n",
       "</div>"
      ],
      "text/plain": [
       "   A  B  index\n",
       "0  1  4      7\n",
       "1  2  5      8\n",
       "2  3  6      9"
      ]
     },
     "execution_count": 49,
     "metadata": {},
     "output_type": "execute_result"
    }
   ],
   "source": [
    "pd.DataFrame({'A': [1,2,3], 'B' : [4,5,6], 'index' : [7,8,9]})"
   ]
  }
 ],
 "metadata": {
  "kernelspec": {
   "display_name": "Python 3 (ipykernel)",
   "language": "python",
   "name": "python3"
  },
  "language_info": {
   "codemirror_mode": {
    "name": "ipython",
    "version": 3
   },
   "file_extension": ".py",
   "mimetype": "text/x-python",
   "name": "python",
   "nbconvert_exporter": "python",
   "pygments_lexer": "ipython3",
   "version": "3.13.1"
  }
 },
 "nbformat": 4,
 "nbformat_minor": 5
}
