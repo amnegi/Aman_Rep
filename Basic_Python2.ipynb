{
 "cells": [
  {
   "cell_type": "markdown",
   "id": "cb0c1dfc-7251-4037-bf4c-058953fcc91e",
   "metadata": {},
   "source": [
    "# Heading Size 1\n",
    "## 2\n",
    "### 3\n",
    "#### 4\n",
    "##### 5"
   ]
  },
  {
   "cell_type": "markdown",
   "id": "fb9ff4ab-f731-43d0-8079-7d63c0121fb5",
   "metadata": {},
   "source": [
    "* Bullent point is done by asterisk\n",
    "1. Numbering with point"
   ]
  },
  {
   "cell_type": "code",
   "execution_count": 1,
   "id": "8b85528f-0f54-4572-a60b-58a02c37e800",
   "metadata": {},
   "outputs": [
    {
     "name": "stdout",
     "output_type": "stream",
     "text": [
      "['False', 'None', 'True', 'and', 'as', 'assert', 'async', 'await', 'break', 'class', 'continue', 'def', 'del', 'elif', 'else', 'except', 'finally', 'for', 'from', 'global', 'if', 'import', 'in', 'is', 'lambda', 'nonlocal', 'not', 'or', 'pass', 'raise', 'return', 'try', 'while', 'with', 'yield']\n"
     ]
    }
   ],
   "source": [
    "import keyword\n",
    "print(keyword.kwlist)"
   ]
  },
  {
   "cell_type": "code",
   "execution_count": 2,
   "id": "a69cf5f7-dbfb-4ad7-aa8f-dd4c621cc05e",
   "metadata": {},
   "outputs": [],
   "source": [
    "a = 5"
   ]
  },
  {
   "cell_type": "code",
   "execution_count": 3,
   "id": "9e704ab2-31ad-4280-8df0-7dc1fa52e4bc",
   "metadata": {},
   "outputs": [
    {
     "data": {
      "text/plain": [
       "int"
      ]
     },
     "execution_count": 3,
     "metadata": {},
     "output_type": "execute_result"
    }
   ],
   "source": [
    "type(a)"
   ]
  },
  {
   "cell_type": "code",
   "execution_count": 4,
   "id": "4b2d2451-09a7-4094-9281-281a4d5dd140",
   "metadata": {},
   "outputs": [],
   "source": [
    "a = a/2"
   ]
  },
  {
   "cell_type": "code",
   "execution_count": 5,
   "id": "1b09bc88-6347-4fbf-b9d2-fd2e304bdeba",
   "metadata": {},
   "outputs": [
    {
     "data": {
      "text/plain": [
       "float"
      ]
     },
     "execution_count": 5,
     "metadata": {},
     "output_type": "execute_result"
    }
   ],
   "source": [
    "type(a)\n",
    "# Data type automatically changes"
   ]
  },
  {
   "cell_type": "code",
   "execution_count": 1,
   "id": "e164fcdb-5974-435c-ab34-1274d56d2f45",
   "metadata": {},
   "outputs": [],
   "source": [
    "import pandas as pd"
   ]
  },
  {
   "cell_type": "code",
   "execution_count": 2,
   "id": "53cd8f08-27a4-4a36-b400-29645395d82b",
   "metadata": {},
   "outputs": [
    {
     "name": "stdin",
     "output_type": "stream",
     "text": [
      "Enter a number 11\n"
     ]
    }
   ],
   "source": [
    "A = input(\"Enter a number\")"
   ]
  },
  {
   "cell_type": "code",
   "execution_count": 3,
   "id": "93d1c9cc-5707-47bf-acfe-a765d0f2dc8c",
   "metadata": {},
   "outputs": [
    {
     "data": {
      "text/plain": [
       "str"
      ]
     },
     "execution_count": 3,
     "metadata": {},
     "output_type": "execute_result"
    }
   ],
   "source": [
    "type(A)"
   ]
  },
  {
   "cell_type": "code",
   "execution_count": 4,
   "id": "5d6aef4a-bfd9-4bff-bf5a-02b9b6097a80",
   "metadata": {},
   "outputs": [],
   "source": [
    "# By default it enters as a string"
   ]
  },
  {
   "cell_type": "code",
   "execution_count": 5,
   "id": "7143e7de-1079-4d8e-80ba-cc427b72c30c",
   "metadata": {},
   "outputs": [],
   "source": [
    "A = int(A)\n",
    "# Type casting"
   ]
  },
  {
   "cell_type": "code",
   "execution_count": 6,
   "id": "0ca6eaf3-4195-4a7c-b899-6f7fa6597a9d",
   "metadata": {},
   "outputs": [
    {
     "name": "stdin",
     "output_type": "stream",
     "text": [
      "Enter a number 24\n"
     ]
    }
   ],
   "source": [
    "B = int(input(\"Enter a number\"))\n",
    "# Type casted at input level"
   ]
  },
  {
   "cell_type": "code",
   "execution_count": 7,
   "id": "9cafc613-776c-4871-bfca-74069302c161",
   "metadata": {},
   "outputs": [],
   "source": [
    "# To interchange these two above integers\n",
    "C=B\n",
    "B=A\n",
    "A=C"
   ]
  },
  {
   "cell_type": "code",
   "execution_count": 8,
   "id": "66be4c40-f93b-49b7-9cfe-67e5071ac4bd",
   "metadata": {},
   "outputs": [
    {
     "name": "stdout",
     "output_type": "stream",
     "text": [
      "24 11\n"
     ]
    }
   ],
   "source": [
    "print(A,B)"
   ]
  },
  {
   "cell_type": "code",
   "execution_count": 9,
   "id": "c159760f-1808-45d3-aeb4-edceaf1e47c1",
   "metadata": {},
   "outputs": [],
   "source": [
    "var1 = 5\n",
    "var2 = var1*var1"
   ]
  },
  {
   "cell_type": "code",
   "execution_count": 10,
   "id": "7905e638-4c33-40f1-b269-954ec21aa6fd",
   "metadata": {},
   "outputs": [
    {
     "name": "stdout",
     "output_type": "stream",
     "text": [
      "5 is the number and its square root is 25\n"
     ]
    }
   ],
   "source": [
    "print(\"%d is the number and its square root is %d\"%(var1,var2))\n",
    "# Printing using access modifiers like %2f is used for float of 2 decimal places, %s is for string, %c is for char"
   ]
  },
  {
   "cell_type": "markdown",
   "id": "16b201bc-50bd-4279-9880-f22c072bc2fc",
   "metadata": {},
   "source": [
    "# Strings"
   ]
  },
  {
   "cell_type": "code",
   "execution_count": 11,
   "id": "622d7687-1ee4-4095-90e6-769eeb72a102",
   "metadata": {},
   "outputs": [],
   "source": [
    "string = \"amannegi\""
   ]
  },
  {
   "cell_type": "code",
   "execution_count": 12,
   "id": "198d14d6-49e3-4e61-b71e-5d7a35552286",
   "metadata": {},
   "outputs": [
    {
     "data": {
      "text/plain": [
       "('a', 'i')"
      ]
     },
     "execution_count": 12,
     "metadata": {},
     "output_type": "execute_result"
    }
   ],
   "source": [
    "# Index starts from 0 or -1 from opposite site and [] are access modifier\n",
    "string[0],string[-1]"
   ]
  },
  {
   "cell_type": "code",
   "execution_count": 13,
   "id": "f52ae952-8790-4c3a-afe8-606104ff4ed1",
   "metadata": {},
   "outputs": [
    {
     "data": {
      "text/plain": [
       "'amann'"
      ]
     },
     "execution_count": 13,
     "metadata": {},
     "output_type": "execute_result"
    }
   ],
   "source": [
    "string[0:5]"
   ]
  },
  {
   "cell_type": "code",
   "execution_count": 14,
   "id": "05a791ec-f5b9-4586-bbc2-7e46ef4d46e9",
   "metadata": {},
   "outputs": [
    {
     "data": {
      "text/plain": [
       "'annegi'"
      ]
     },
     "execution_count": 14,
     "metadata": {},
     "output_type": "execute_result"
    }
   ],
   "source": [
    "string[2:]"
   ]
  },
  {
   "cell_type": "code",
   "execution_count": 15,
   "id": "ede775b8-518c-45ce-a60d-1310a9e7114c",
   "metadata": {},
   "outputs": [
    {
     "data": {
      "text/plain": [
       "'amann'"
      ]
     },
     "execution_count": 15,
     "metadata": {},
     "output_type": "execute_result"
    }
   ],
   "source": [
    "string[:5]"
   ]
  },
  {
   "cell_type": "code",
   "execution_count": 16,
   "id": "b05c003f-d93b-43aa-b365-1efcb5dc12f9",
   "metadata": {},
   "outputs": [
    {
     "data": {
      "text/plain": [
       "'mn'"
      ]
     },
     "execution_count": 16,
     "metadata": {},
     "output_type": "execute_result"
    }
   ],
   "source": [
    "string[1:5:2]\n",
    "# First index is included, second index value is included at last and last is the gap that prints that index value"
   ]
  },
  {
   "cell_type": "code",
   "execution_count": 17,
   "id": "0ac05f51-5864-4abc-b2cc-3fce8d8337cb",
   "metadata": {},
   "outputs": [
    {
     "data": {
      "text/plain": [
       "'mnei'"
      ]
     },
     "execution_count": 17,
     "metadata": {},
     "output_type": "execute_result"
    }
   ],
   "source": [
    "string[1::2]"
   ]
  },
  {
   "cell_type": "code",
   "execution_count": 18,
   "id": "c22c25aa-158c-4515-a938-28b8202e3db8",
   "metadata": {},
   "outputs": [
    {
     "data": {
      "text/plain": [
       "8"
      ]
     },
     "execution_count": 18,
     "metadata": {},
     "output_type": "execute_result"
    }
   ],
   "source": [
    "len(string)"
   ]
  },
  {
   "cell_type": "code",
   "execution_count": 19,
   "id": "b18c7333-fc0e-4dfd-ae64-09f24460de5f",
   "metadata": {},
   "outputs": [
    {
     "data": {
      "text/plain": [
       "'amannegi'"
      ]
     },
     "execution_count": 19,
     "metadata": {},
     "output_type": "execute_result"
    }
   ],
   "source": [
    "string.capitalize()\n",
    "string\n",
    "# String are immutable"
   ]
  },
  {
   "cell_type": "code",
   "execution_count": 21,
   "id": "5cb554f7-bffa-448f-8022-acc0315e3192",
   "metadata": {},
   "outputs": [
    {
     "data": {
      "text/plain": [
       "'Amannegi'"
      ]
     },
     "execution_count": 21,
     "metadata": {},
     "output_type": "execute_result"
    }
   ],
   "source": [
    "q = string.capitalize()\n",
    "q"
   ]
  },
  {
   "cell_type": "code",
   "execution_count": 22,
   "id": "9984e1a4-1aa9-4bcb-aa5d-d5bde232cf9a",
   "metadata": {},
   "outputs": [
    {
     "data": {
      "text/plain": [
       "'AMANNEGI'"
      ]
     },
     "execution_count": 22,
     "metadata": {},
     "output_type": "execute_result"
    }
   ],
   "source": [
    "w = string.upper()\n",
    "w"
   ]
  },
  {
   "cell_type": "code",
   "execution_count": 23,
   "id": "71fefae9-65ff-471d-91bd-df7a1e60c316",
   "metadata": {},
   "outputs": [
    {
     "data": {
      "text/plain": [
       "'amannegi'"
      ]
     },
     "execution_count": 23,
     "metadata": {},
     "output_type": "execute_result"
    }
   ],
   "source": [
    "e = string.lower()\n",
    "e"
   ]
  },
  {
   "cell_type": "code",
   "execution_count": 24,
   "id": "281a5403-6e2f-4b22-9daa-e43919a4c6db",
   "metadata": {},
   "outputs": [
    {
     "data": {
      "text/plain": [
       "'AMANNEGI'"
      ]
     },
     "execution_count": 24,
     "metadata": {},
     "output_type": "execute_result"
    }
   ],
   "source": [
    "r = string.swapcase()\n",
    "r"
   ]
  },
  {
   "cell_type": "code",
   "execution_count": 25,
   "id": "2ad72f82-268e-4a18-b787-0214b1251200",
   "metadata": {},
   "outputs": [
    {
     "data": {
      "text/plain": [
       "'bmbnnegi'"
      ]
     },
     "execution_count": 25,
     "metadata": {},
     "output_type": "execute_result"
    }
   ],
   "source": [
    "t = string.replace(\"a\",\"b\")\n",
    "t"
   ]
  },
  {
   "cell_type": "code",
   "execution_count": 26,
   "id": "a8de851e-3604-40bb-bdcf-dce2f63399c0",
   "metadata": {},
   "outputs": [],
   "source": [
    "y = \" A B C D \""
   ]
  },
  {
   "cell_type": "code",
   "execution_count": 27,
   "id": "79fd62e5-d8a6-4ab1-9dcf-f2e28cea0bf7",
   "metadata": {},
   "outputs": [
    {
     "data": {
      "text/plain": [
       "'A B C D'"
      ]
     },
     "execution_count": 27,
     "metadata": {},
     "output_type": "execute_result"
    }
   ],
   "source": [
    "y.strip()\n",
    "# Removes end spaces"
   ]
  },
  {
   "cell_type": "markdown",
   "id": "b5f44dcb-1ae8-42da-ae37-204f4911545c",
   "metadata": {},
   "source": [
    "# Math Library functions"
   ]
  },
  {
   "cell_type": "code",
   "execution_count": 28,
   "id": "f281e167-fc59-40e1-b83a-0872ff993c31",
   "metadata": {},
   "outputs": [],
   "source": [
    "import math as m"
   ]
  },
  {
   "cell_type": "code",
   "execution_count": 29,
   "id": "c0562132-ffb7-403b-a8e6-3656fd28a967",
   "metadata": {},
   "outputs": [
    {
     "data": {
      "text/plain": [
       "25.0"
      ]
     },
     "execution_count": 29,
     "metadata": {},
     "output_type": "execute_result"
    }
   ],
   "source": [
    "m.pow(5,2)"
   ]
  },
  {
   "cell_type": "code",
   "execution_count": 30,
   "id": "d29e3317-07cd-4124-b27d-4fe94fe1ff03",
   "metadata": {},
   "outputs": [
    {
     "data": {
      "text/plain": [
       "7.0"
      ]
     },
     "execution_count": 30,
     "metadata": {},
     "output_type": "execute_result"
    }
   ],
   "source": [
    "m.sqrt(49)"
   ]
  },
  {
   "cell_type": "code",
   "execution_count": 31,
   "id": "4f3614d4-027c-4f53-8f56-b1e806cb3dee",
   "metadata": {},
   "outputs": [
    {
     "data": {
      "text/plain": [
       "40320"
      ]
     },
     "execution_count": 31,
     "metadata": {},
     "output_type": "execute_result"
    }
   ],
   "source": [
    "m.factorial(8)"
   ]
  },
  {
   "cell_type": "code",
   "execution_count": 32,
   "id": "e9c0239b-89ba-483a-abc5-edfc9f851696",
   "metadata": {},
   "outputs": [
    {
     "data": {
      "text/plain": [
       "10"
      ]
     },
     "execution_count": 32,
     "metadata": {},
     "output_type": "execute_result"
    }
   ],
   "source": [
    "m.comb(5,3)"
   ]
  },
  {
   "cell_type": "code",
   "execution_count": 33,
   "id": "8e83e698-b951-45d7-88f4-b811880e13cf",
   "metadata": {},
   "outputs": [
    {
     "data": {
      "text/plain": [
       "60"
      ]
     },
     "execution_count": 33,
     "metadata": {},
     "output_type": "execute_result"
    }
   ],
   "source": [
    "m.perm(5,3)"
   ]
  },
  {
   "cell_type": "code",
   "execution_count": 34,
   "id": "31f25039-f40a-48c5-ac8e-90e108529919",
   "metadata": {},
   "outputs": [
    {
     "data": {
      "text/plain": [
       "3.141592653589793"
      ]
     },
     "execution_count": 34,
     "metadata": {},
     "output_type": "execute_result"
    }
   ],
   "source": [
    "m.pi"
   ]
  },
  {
   "cell_type": "code",
   "execution_count": 35,
   "id": "398b658b-15d5-4d11-a02a-01414bbcdfa9",
   "metadata": {},
   "outputs": [
    {
     "data": {
      "text/plain": [
       "2.718281828459045"
      ]
     },
     "execution_count": 35,
     "metadata": {},
     "output_type": "execute_result"
    }
   ],
   "source": [
    "m.e"
   ]
  },
  {
   "cell_type": "code",
   "execution_count": 36,
   "id": "6b2e4810-93e3-4ae9-bd25-52565fe34128",
   "metadata": {},
   "outputs": [
    {
     "data": {
      "text/plain": [
       "7.38905609893065"
      ]
     },
     "execution_count": 36,
     "metadata": {},
     "output_type": "execute_result"
    }
   ],
   "source": [
    "#power of exponential is 2\n",
    "m.exp(2)"
   ]
  },
  {
   "cell_type": "code",
   "execution_count": 37,
   "id": "fe454847-4f9f-49b7-94f1-84810ed4240f",
   "metadata": {},
   "outputs": [
    {
     "data": {
      "text/plain": [
       "0.6931471805599453"
      ]
     },
     "execution_count": 37,
     "metadata": {},
     "output_type": "execute_result"
    }
   ],
   "source": [
    "#default base of log is 2\n",
    "m.log(2)"
   ]
  },
  {
   "cell_type": "code",
   "execution_count": 38,
   "id": "5701b948-0231-4f47-912e-5f3628c0b2ec",
   "metadata": {},
   "outputs": [
    {
     "data": {
      "text/plain": [
       "1.0"
      ]
     },
     "execution_count": 38,
     "metadata": {},
     "output_type": "execute_result"
    }
   ],
   "source": [
    "m.log10(10)"
   ]
  },
  {
   "cell_type": "code",
   "execution_count": 39,
   "id": "c9ecfc02-eb0b-4b7f-918a-498d19d4b35c",
   "metadata": {},
   "outputs": [
    {
     "name": "stdout",
     "output_type": "stream",
     "text": [
      "Help on built-in function log in module math:\n",
      "\n",
      "log(...)\n",
      "    log(x, [base=math.e])\n",
      "    Return the logarithm of x to the given base.\n",
      "\n",
      "    If the base is not specified, returns the natural logarithm (base e) of x.\n",
      "\n"
     ]
    }
   ],
   "source": [
    "help(m.log)"
   ]
  },
  {
   "cell_type": "markdown",
   "id": "bf16a0a2-2d52-41ff-9982-51cb3784750f",
   "metadata": {},
   "source": [
    "# Data Containers\n",
    "## Python List"
   ]
  },
  {
   "cell_type": "code",
   "execution_count": 63,
   "id": "692238af-39b5-4d3f-8a33-277b7e0e2a5a",
   "metadata": {},
   "outputs": [],
   "source": [
    "First_list = [1,2,3,4,5]"
   ]
  },
  {
   "cell_type": "code",
   "execution_count": 64,
   "id": "de24464d-560b-4827-aece-b758aaf9d138",
   "metadata": {},
   "outputs": [
    {
     "data": {
      "text/plain": [
       "list"
      ]
     },
     "execution_count": 64,
     "metadata": {},
     "output_type": "execute_result"
    }
   ],
   "source": [
    "type(First_list)"
   ]
  },
  {
   "cell_type": "code",
   "execution_count": 65,
   "id": "ed3c7ed3-8ac7-4ec9-9483-1d05548df226",
   "metadata": {},
   "outputs": [
    {
     "data": {
      "text/plain": [
       "[1, 2, 3, 4, 5]"
      ]
     },
     "execution_count": 65,
     "metadata": {},
     "output_type": "execute_result"
    }
   ],
   "source": [
    "First_list"
   ]
  },
  {
   "cell_type": "code",
   "execution_count": 66,
   "id": "fdeea7e3-b7da-4f60-8918-e6cd76798898",
   "metadata": {},
   "outputs": [
    {
     "data": {
      "text/plain": [
       "5"
      ]
     },
     "execution_count": 66,
     "metadata": {},
     "output_type": "execute_result"
    }
   ],
   "source": [
    "len(First_list)"
   ]
  },
  {
   "cell_type": "code",
   "execution_count": 67,
   "id": "df4326f4-ed22-4cf9-ab69-7daf866b9f00",
   "metadata": {},
   "outputs": [
    {
     "data": {
      "text/plain": [
       "1"
      ]
     },
     "execution_count": 67,
     "metadata": {},
     "output_type": "execute_result"
    }
   ],
   "source": [
    "First_list[0]"
   ]
  },
  {
   "cell_type": "code",
   "execution_count": 68,
   "id": "61f9c5e7-839e-4e1f-b7a4-1b1e395dfa73",
   "metadata": {},
   "outputs": [
    {
     "data": {
      "text/plain": [
       "5"
      ]
     },
     "execution_count": 68,
     "metadata": {},
     "output_type": "execute_result"
    }
   ],
   "source": [
    "First_list[-1]"
   ]
  },
  {
   "cell_type": "code",
   "execution_count": 69,
   "id": "6768328b-9087-4c41-b067-f9b32c6af97b",
   "metadata": {},
   "outputs": [],
   "source": [
    "Mix_list = [1,1.5,'Apple',True]"
   ]
  },
  {
   "cell_type": "code",
   "execution_count": 70,
   "id": "4d567977-6409-48df-be5a-73d67c6dd1ee",
   "metadata": {},
   "outputs": [],
   "source": [
    "Sub_list= [[1,2,3],['Apple','Mango']]"
   ]
  },
  {
   "cell_type": "code",
   "execution_count": 71,
   "id": "9e868e1a-f095-4853-9d54-105423586662",
   "metadata": {},
   "outputs": [
    {
     "data": {
      "text/plain": [
       "['Apple', 'Mango']"
      ]
     },
     "execution_count": 71,
     "metadata": {},
     "output_type": "execute_result"
    }
   ],
   "source": [
    "Sub_list[1] "
   ]
  },
  {
   "cell_type": "code",
   "execution_count": 72,
   "id": "b501a42f-2af2-44e2-a0e9-e0d0b3012188",
   "metadata": {},
   "outputs": [
    {
     "data": {
      "text/plain": [
       "'Apple'"
      ]
     },
     "execution_count": 72,
     "metadata": {},
     "output_type": "execute_result"
    }
   ],
   "source": [
    "Sub_list[1][0]"
   ]
  },
  {
   "cell_type": "code",
   "execution_count": 73,
   "id": "35929057-56e1-4fcf-8ba0-2f319d99264d",
   "metadata": {},
   "outputs": [],
   "source": [
    "My_list1 = list(range(5))"
   ]
  },
  {
   "cell_type": "code",
   "execution_count": 74,
   "id": "475918fc-8490-4742-94e6-377c2fa1e8e9",
   "metadata": {},
   "outputs": [],
   "source": [
    "My_list2 = list(range(11,15))"
   ]
  },
  {
   "cell_type": "code",
   "execution_count": 75,
   "id": "1d1531f8-c834-4766-bec9-52a68c0de048",
   "metadata": {},
   "outputs": [],
   "source": [
    "My_list3 = list([1,80.9,False])\n",
    "# Different way to create"
   ]
  },
  {
   "cell_type": "code",
   "execution_count": 76,
   "id": "7d265238-aadc-4c21-917e-d928aaf70575",
   "metadata": {},
   "outputs": [
    {
     "data": {
      "text/plain": [
       "([0, 1, 2, 3, 4], [11, 12, 13, 14], [1, 80.9, False])"
      ]
     },
     "execution_count": 76,
     "metadata": {},
     "output_type": "execute_result"
    }
   ],
   "source": [
    "My_list1,My_list2,My_list3"
   ]
  },
  {
   "cell_type": "code",
   "execution_count": 77,
   "id": "9afc7396-a76d-4c5d-9fda-e66bebcfa1fd",
   "metadata": {},
   "outputs": [
    {
     "data": {
      "text/plain": [
       "[1, 2, 3, 4, 5, 10]"
      ]
     },
     "execution_count": 77,
     "metadata": {},
     "output_type": "execute_result"
    }
   ],
   "source": [
    "First_list.append(10)\n",
    "First_list"
   ]
  },
  {
   "cell_type": "code",
   "execution_count": 78,
   "id": "7ea29d0e-9457-4a39-951e-812ed7826ab2",
   "metadata": {},
   "outputs": [
    {
     "data": {
      "text/plain": [
       "5"
      ]
     },
     "execution_count": 78,
     "metadata": {},
     "output_type": "execute_result"
    }
   ],
   "source": [
    "First_list.pop(4)\n",
    "# Here 4 is index position to be retieved"
   ]
  },
  {
   "cell_type": "code",
   "execution_count": 79,
   "id": "bfe06d53-c5fa-49b7-971e-8bd4ee4e94f2",
   "metadata": {},
   "outputs": [
    {
     "data": {
      "text/plain": [
       "[1, 2, 3, 4, 10]"
      ]
     },
     "execution_count": 79,
     "metadata": {},
     "output_type": "execute_result"
    }
   ],
   "source": [
    "First_list"
   ]
  },
  {
   "cell_type": "code",
   "execution_count": 80,
   "id": "fc9ff636-5410-40de-a055-955bb30171ea",
   "metadata": {},
   "outputs": [
    {
     "data": {
      "text/plain": [
       "[1, 2, 4, 10]"
      ]
     },
     "execution_count": 80,
     "metadata": {},
     "output_type": "execute_result"
    }
   ],
   "source": [
    "First_list.remove(3)\n",
    "# removes first occurance of the element inside bracket \n",
    "First_list"
   ]
  },
  {
   "cell_type": "code",
   "execution_count": 81,
   "id": "d2a3fb51-8dfb-4e88-a26e-fed56bb06f7a",
   "metadata": {},
   "outputs": [
    {
     "data": {
      "text/plain": [
       "[1, 2, 15, 4, 10]"
      ]
     },
     "execution_count": 81,
     "metadata": {},
     "output_type": "execute_result"
    }
   ],
   "source": [
    "First_list.insert(2,15)\n",
    "# Insert 15 at second index position\n",
    "First_list"
   ]
  },
  {
   "cell_type": "code",
   "execution_count": 82,
   "id": "a2795357-3178-4cad-b4f5-df29b018bfab",
   "metadata": {},
   "outputs": [
    {
     "data": {
      "text/plain": [
       "1"
      ]
     },
     "execution_count": 82,
     "metadata": {},
     "output_type": "execute_result"
    }
   ],
   "source": [
    "First_list.count(15)"
   ]
  },
  {
   "cell_type": "code",
   "execution_count": 83,
   "id": "19b2d773-4b27-4c5e-bcf2-12047d17947e",
   "metadata": {},
   "outputs": [],
   "source": [
    "First_list.reverse()"
   ]
  },
  {
   "cell_type": "code",
   "execution_count": 84,
   "id": "318bdcbc-7824-43f0-a8b1-f41aa6443fe2",
   "metadata": {},
   "outputs": [
    {
     "data": {
      "text/plain": [
       "[10, 4, 15, 2, 1]"
      ]
     },
     "execution_count": 84,
     "metadata": {},
     "output_type": "execute_result"
    }
   ],
   "source": [
    "First_list"
   ]
  },
  {
   "cell_type": "code",
   "execution_count": 85,
   "id": "95ee2e14-969c-448a-8bcc-2c3beda629de",
   "metadata": {},
   "outputs": [],
   "source": [
    "First_list.sort()\n",
    "# By deafult in ascending order sorted"
   ]
  },
  {
   "cell_type": "code",
   "execution_count": 87,
   "id": "0741b67b-f4f3-465f-a1ac-45f3c2a33253",
   "metadata": {},
   "outputs": [
    {
     "data": {
      "text/plain": [
       "[15, 10, 4, 2, 1]"
      ]
     },
     "execution_count": 87,
     "metadata": {},
     "output_type": "execute_result"
    }
   ],
   "source": [
    "First_list.sort(reverse=True)\n",
    "# Now in descending order\n",
    "First_list"
   ]
  },
  {
   "cell_type": "markdown",
   "id": "625f0f5d-c415-4997-8877-6a8da66c510c",
   "metadata": {},
   "source": [
    "# Python Dictionary"
   ]
  },
  {
   "cell_type": "code",
   "execution_count": 88,
   "id": "7bae2407-6966-4f17-99d9-6de4581cc642",
   "metadata": {},
   "outputs": [],
   "source": [
    "My_dict = {\"Name\":\"MBA\",\"University\":\"GEU\",\"Affiliation\":\"UGC\"}"
   ]
  },
  {
   "cell_type": "code",
   "execution_count": 89,
   "id": "1536a012-c045-49be-a69e-ca7cc912fe4b",
   "metadata": {},
   "outputs": [
    {
     "name": "stdout",
     "output_type": "stream",
     "text": [
      "{'Name': 'MBA', 'University': 'GEU', 'Affiliation': 'UGC'}\n"
     ]
    }
   ],
   "source": [
    "print(My_dict)"
   ]
  },
  {
   "cell_type": "code",
   "execution_count": 90,
   "id": "1a5d0535-f115-4ae7-8f4b-113367f458da",
   "metadata": {},
   "outputs": [
    {
     "data": {
      "text/plain": [
       "dict"
      ]
     },
     "execution_count": 90,
     "metadata": {},
     "output_type": "execute_result"
    }
   ],
   "source": [
    "type(My_dict)"
   ]
  },
  {
   "cell_type": "code",
   "execution_count": 91,
   "id": "517cb287-e526-4e7c-946e-ca71245610d9",
   "metadata": {},
   "outputs": [
    {
     "data": {
      "text/plain": [
       "3"
      ]
     },
     "execution_count": 91,
     "metadata": {},
     "output_type": "execute_result"
    }
   ],
   "source": [
    "len(My_dict)"
   ]
  },
  {
   "cell_type": "code",
   "execution_count": 92,
   "id": "f51f820d-c273-44e4-8e97-1667449f03a3",
   "metadata": {},
   "outputs": [],
   "source": [
    "My_dict2 = dict(Name = \"Aman\", Roll_no = 26, Country = \"India\")"
   ]
  },
  {
   "cell_type": "code",
   "execution_count": 93,
   "id": "6f596fe9-e273-4939-9370-623c76129fd7",
   "metadata": {},
   "outputs": [
    {
     "name": "stdout",
     "output_type": "stream",
     "text": [
      "{'Name': 'Aman', 'Roll_no': 26, 'Country': 'India'}\n"
     ]
    }
   ],
   "source": [
    "print(My_dict2)"
   ]
  },
  {
   "cell_type": "code",
   "execution_count": 94,
   "id": "990d3626-fcc1-4992-b385-cacd15d65c4d",
   "metadata": {},
   "outputs": [
    {
     "data": {
      "text/plain": [
       "'MBA'"
      ]
     },
     "execution_count": 94,
     "metadata": {},
     "output_type": "execute_result"
    }
   ],
   "source": [
    "My_dict[\"Name\"]\n",
    "# Printing using key"
   ]
  },
  {
   "cell_type": "code",
   "execution_count": 95,
   "id": "a2c23faf-86e4-49f1-b1be-6ef0feeb48f6",
   "metadata": {},
   "outputs": [
    {
     "data": {
      "text/plain": [
       "dict_keys(['Name', 'University', 'Affiliation'])"
      ]
     },
     "execution_count": 95,
     "metadata": {},
     "output_type": "execute_result"
    }
   ],
   "source": [
    "My_dict.keys()\n",
    "# Retrieving keys"
   ]
  },
  {
   "cell_type": "code",
   "execution_count": 96,
   "id": "fce2393b-5a2d-4298-8939-62a65f183367",
   "metadata": {},
   "outputs": [
    {
     "data": {
      "text/plain": [
       "dict_values(['MBA', 'GEU', 'UGC'])"
      ]
     },
     "execution_count": 96,
     "metadata": {},
     "output_type": "execute_result"
    }
   ],
   "source": [
    "My_dict.values()"
   ]
  },
  {
   "cell_type": "code",
   "execution_count": 97,
   "id": "00841be0-7f01-4d8a-b8d7-e2ea3e9d24fa",
   "metadata": {},
   "outputs": [
    {
     "data": {
      "text/plain": [
       "dict_items([('Name', 'MBA'), ('University', 'GEU'), ('Affiliation', 'UGC')])"
      ]
     },
     "execution_count": 97,
     "metadata": {},
     "output_type": "execute_result"
    }
   ],
   "source": [
    "My_dict.items()"
   ]
  },
  {
   "cell_type": "code",
   "execution_count": 98,
   "id": "b9030d6a-ce2d-4030-87be-1cad14cf79af",
   "metadata": {},
   "outputs": [
    {
     "data": {
      "text/plain": [
       "{'Name': 'MBA-Impact', 'University': 'GEU', 'Affiliation': 'UGC'}"
      ]
     },
     "execution_count": 98,
     "metadata": {},
     "output_type": "execute_result"
    }
   ],
   "source": [
    "My_dict.update({\"Name\":\"MBA-Impact\"})\n",
    "My_dict"
   ]
  },
  {
   "cell_type": "code",
   "execution_count": 99,
   "id": "d73883c4-0a37-485c-a829-9d3fd40b8d4f",
   "metadata": {},
   "outputs": [
    {
     "data": {
      "text/plain": [
       "{'Name': 'MBA-Impact',\n",
       " 'University': 'GEU',\n",
       " 'Affiliation': 'UGC',\n",
       " 'Address': 'Dehradun'}"
      ]
     },
     "execution_count": 99,
     "metadata": {},
     "output_type": "execute_result"
    }
   ],
   "source": [
    "# It automatically adds at last as indexing is through keys and no specific index position can be added\n",
    "My_dict[\"Address\"] = \"Dehradun\"\n",
    "My_dict"
   ]
  },
  {
   "cell_type": "code",
   "execution_count": 100,
   "id": "4f7cc0b5-e7ef-4963-8b8c-741fc2be558a",
   "metadata": {},
   "outputs": [
    {
     "data": {
      "text/plain": [
       "{'Name': 'MBA-Impact', 'University': 'GEU', 'Address': 'Dehradun'}"
      ]
     },
     "execution_count": 100,
     "metadata": {},
     "output_type": "execute_result"
    }
   ],
   "source": [
    "My_dict.pop(\"Affiliation\")\n",
    "My_dict"
   ]
  },
  {
   "cell_type": "code",
   "execution_count": 107,
   "id": "ee33d7cb-6fec-4618-a007-f9390f4d5fa5",
   "metadata": {},
   "outputs": [
    {
     "data": {
      "text/plain": [
       "(['Name', 'University', 'Address'], ['MBA-Impact', 'GEU', 'Dehradun'])"
      ]
     },
     "execution_count": 107,
     "metadata": {},
     "output_type": "execute_result"
    }
   ],
   "source": [
    "# CREATE LISTS FROM DICTIONARY\n",
    "list1 = list(My_dict.keys())\n",
    "list2 = list(My_dict.values())\n",
    "list1, list2"
   ]
  },
  {
   "cell_type": "markdown",
   "id": "3b5d7a52-77d8-4262-bb0b-80cd81c5aa35",
   "metadata": {},
   "source": [
    "# Python Tuples"
   ]
  },
  {
   "cell_type": "code",
   "execution_count": 108,
   "id": "a5cf745e-a919-457b-b8ee-8293f1223f53",
   "metadata": {},
   "outputs": [
    {
     "data": {
      "text/plain": [
       "4"
      ]
     },
     "execution_count": 108,
     "metadata": {},
     "output_type": "execute_result"
    }
   ],
   "source": [
    "First_tuple = (1,2,3,4)\n",
    "len(First_tuple)"
   ]
  },
  {
   "cell_type": "code",
   "execution_count": 109,
   "id": "1287265d-6470-4a4a-9871-d953366053e5",
   "metadata": {},
   "outputs": [
    {
     "data": {
      "text/plain": [
       "1"
      ]
     },
     "execution_count": 109,
     "metadata": {},
     "output_type": "execute_result"
    }
   ],
   "source": [
    "First_tuple.count(2)\n",
    "# Number of times value occured "
   ]
  },
  {
   "cell_type": "code",
   "execution_count": 110,
   "id": "2c5f2570-70f7-42b3-a51f-0fc6551ffc28",
   "metadata": {},
   "outputs": [
    {
     "data": {
      "text/plain": [
       "2"
      ]
     },
     "execution_count": 110,
     "metadata": {},
     "output_type": "execute_result"
    }
   ],
   "source": [
    "First_tuple.index(3)\n",
    "# Write the element to find its index position"
   ]
  },
  {
   "cell_type": "code",
   "execution_count": 111,
   "id": "1dd88411-69bd-4d45-a824-4d4cbed168ab",
   "metadata": {},
   "outputs": [
    {
     "data": {
      "text/plain": [
       "1"
      ]
     },
     "execution_count": 111,
     "metadata": {},
     "output_type": "execute_result"
    }
   ],
   "source": [
    "First_tuple[0]"
   ]
  },
  {
   "cell_type": "markdown",
   "id": "434e778a-93bd-4e7a-b3b4-f383a07dcbe9",
   "metadata": {},
   "source": [
    "# Python Sets"
   ]
  },
  {
   "cell_type": "code",
   "execution_count": 112,
   "id": "2eddcc11-3b45-480f-83e1-659856e36626",
   "metadata": {},
   "outputs": [
    {
     "data": {
      "text/plain": [
       "3"
      ]
     },
     "execution_count": 112,
     "metadata": {},
     "output_type": "execute_result"
    }
   ],
   "source": [
    "My_set = {1,2,3}\n",
    "len(My_set)"
   ]
  },
  {
   "cell_type": "code",
   "execution_count": 113,
   "id": "236f4138-f060-4130-91a1-ff70ed363ada",
   "metadata": {},
   "outputs": [],
   "source": [
    "# Different way to make a tuple \n",
    "My_set2 = set({\"Mouse\",\"Keyboard\",\"Screen\"})"
   ]
  },
  {
   "cell_type": "code",
   "execution_count": 114,
   "id": "97fce877-4444-4200-a9b9-bde43265b019",
   "metadata": {},
   "outputs": [
    {
     "data": {
      "text/plain": [
       "{'Keyboard', 'Mouse', 'Ram', 'Screen'}"
      ]
     },
     "execution_count": 114,
     "metadata": {},
     "output_type": "execute_result"
    }
   ],
   "source": [
    "My_set2.add(\"Ram\")\n",
    "My_set2"
   ]
  },
  {
   "cell_type": "code",
   "execution_count": 115,
   "id": "5c1cb71c-85d5-471f-af69-e1dde494b8a4",
   "metadata": {},
   "outputs": [
    {
     "data": {
      "text/plain": [
       "{'Keyboard', 'Mouse', 'Screen'}"
      ]
     },
     "execution_count": 115,
     "metadata": {},
     "output_type": "execute_result"
    }
   ],
   "source": [
    "My_set2.remove(\"Ram\")\n",
    "My_set2"
   ]
  },
  {
   "cell_type": "code",
   "execution_count": 116,
   "id": "062c52d7-ef4a-47b4-b0a0-8fb9a6172ec3",
   "metadata": {},
   "outputs": [
    {
     "data": {
      "text/plain": [
       "set()"
      ]
     },
     "execution_count": 116,
     "metadata": {},
     "output_type": "execute_result"
    }
   ],
   "source": [
    "My_set2.clear()\n",
    "My_set2"
   ]
  },
  {
   "cell_type": "code",
   "execution_count": 117,
   "id": "12dd9049-2f27-4246-9693-f92841cf9eac",
   "metadata": {},
   "outputs": [],
   "source": [
    "set1= {1,2,3,4,5}\n",
    "set2= {4,5,6,7,8}"
   ]
  },
  {
   "cell_type": "code",
   "execution_count": 118,
   "id": "7e3405a3-261b-4d9d-92fd-0ed669d558dc",
   "metadata": {},
   "outputs": [],
   "source": [
    "set_union = set1.union(set2)"
   ]
  },
  {
   "cell_type": "code",
   "execution_count": 119,
   "id": "b23bc037-75a2-43da-add5-2b588e3a15db",
   "metadata": {},
   "outputs": [
    {
     "data": {
      "text/plain": [
       "{1, 2, 3, 4, 5, 6, 7, 8}"
      ]
     },
     "execution_count": 119,
     "metadata": {},
     "output_type": "execute_result"
    }
   ],
   "source": [
    "set_union\n",
    "# It avoids duplicacy"
   ]
  },
  {
   "cell_type": "code",
   "execution_count": 120,
   "id": "e06286be-10f0-4642-8be3-0a01b95c4625",
   "metadata": {},
   "outputs": [
    {
     "data": {
      "text/plain": [
       "{4, 5}"
      ]
     },
     "execution_count": 120,
     "metadata": {},
     "output_type": "execute_result"
    }
   ],
   "source": [
    "set_inter = set1.intersection(set2)\n",
    "set_inter"
   ]
  },
  {
   "cell_type": "code",
   "execution_count": 121,
   "id": "9ced863c-ddcf-4bae-825a-4c85451088a8",
   "metadata": {},
   "outputs": [],
   "source": [
    "set_diff1 = set1.difference(set2)\n",
    "set_diff2 = set2.difference(set1)"
   ]
  },
  {
   "cell_type": "code",
   "execution_count": 122,
   "id": "8ad1032a-e5d4-407c-8205-fad34630b8da",
   "metadata": {},
   "outputs": [
    {
     "data": {
      "text/plain": [
       "({1, 2, 3}, {6, 7, 8})"
      ]
     },
     "execution_count": 122,
     "metadata": {},
     "output_type": "execute_result"
    }
   ],
   "source": [
    "set_diff1, set_diff2"
   ]
  },
  {
   "cell_type": "code",
   "execution_count": 123,
   "id": "c99a78a0-d68d-404b-afa7-73de5d21e68b",
   "metadata": {},
   "outputs": [
    {
     "data": {
      "text/plain": [
       "{1, 2, 3, 6, 7, 8}"
      ]
     },
     "execution_count": 123,
     "metadata": {},
     "output_type": "execute_result"
    }
   ],
   "source": [
    "set_sym = set1.symmetric_difference(set2)\n",
    "# Common values are ommited out\n",
    "set_sym"
   ]
  },
  {
   "cell_type": "code",
   "execution_count": 128,
   "id": "aaabc6a3-c3e1-4a5a-a9a8-cb34660c5f79",
   "metadata": {},
   "outputs": [],
   "source": [
    "# REMOVE DUPLICATES ELEMENTS OF LIST USING SETS\n",
    "listA = [10,11,12,13,14]\n",
    "listB = [13,14,15,16,17]\n",
    "unique_list = list(set(listA) - set(listB)) + list(set(listB) - set(listA))"
   ]
  },
  {
   "cell_type": "code",
   "execution_count": 129,
   "id": "2da2f32b-4f47-4cea-ac49-fab588e28c61",
   "metadata": {},
   "outputs": [
    {
     "data": {
      "text/plain": [
       "[10, 11, 12, 16, 17, 15]"
      ]
     },
     "execution_count": 129,
     "metadata": {},
     "output_type": "execute_result"
    }
   ],
   "source": [
    "unique_list"
   ]
  }
 ],
 "metadata": {
  "kernelspec": {
   "display_name": "Python 3 (ipykernel)",
   "language": "python",
   "name": "python3"
  },
  "language_info": {
   "codemirror_mode": {
    "name": "ipython",
    "version": 3
   },
   "file_extension": ".py",
   "mimetype": "text/x-python",
   "name": "python",
   "nbconvert_exporter": "python",
   "pygments_lexer": "ipython3",
   "version": "3.13.1"
  }
 },
 "nbformat": 4,
 "nbformat_minor": 5
}
