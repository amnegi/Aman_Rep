{
 "cells": [
  {
   "cell_type": "code",
   "execution_count": 1,
   "id": "08e2301b-deb9-4ab1-b43d-8d8651663847",
   "metadata": {},
   "outputs": [],
   "source": [
    "import pandas as pd\n",
    "import numpy as np"
   ]
  },
  {
   "cell_type": "code",
   "execution_count": 5,
   "id": "4f6d0e7a-ba81-41e2-9304-bb28ccaeed46",
   "metadata": {},
   "outputs": [
    {
     "name": "stdout",
     "output_type": "stream",
     "text": [
      "Requirement already satisfied: pandas_datareader in c:\\users\\aman\\appdata\\local\\programs\\python\\python313\\lib\\site-packages (0.10.0)\n",
      "Requirement already satisfied: lxml in c:\\users\\aman\\appdata\\local\\programs\\python\\python313\\lib\\site-packages (from pandas_datareader) (5.3.0)\n",
      "Requirement already satisfied: pandas>=0.23 in c:\\users\\aman\\appdata\\local\\programs\\python\\python313\\lib\\site-packages (from pandas_datareader) (2.2.3)\n",
      "Requirement already satisfied: requests>=2.19.0 in c:\\users\\aman\\appdata\\local\\programs\\python\\python313\\lib\\site-packages (from pandas_datareader) (2.32.3)\n",
      "Requirement already satisfied: numpy>=1.26.0 in c:\\users\\aman\\appdata\\local\\programs\\python\\python313\\lib\\site-packages (from pandas>=0.23->pandas_datareader) (2.2.1)\n",
      "Requirement already satisfied: python-dateutil>=2.8.2 in c:\\users\\aman\\appdata\\local\\programs\\python\\python313\\lib\\site-packages (from pandas>=0.23->pandas_datareader) (2.9.0.post0)\n",
      "Requirement already satisfied: pytz>=2020.1 in c:\\users\\aman\\appdata\\local\\programs\\python\\python313\\lib\\site-packages (from pandas>=0.23->pandas_datareader) (2024.2)\n",
      "Requirement already satisfied: tzdata>=2022.7 in c:\\users\\aman\\appdata\\local\\programs\\python\\python313\\lib\\site-packages (from pandas>=0.23->pandas_datareader) (2024.2)\n",
      "Requirement already satisfied: charset-normalizer<4,>=2 in c:\\users\\aman\\appdata\\local\\programs\\python\\python313\\lib\\site-packages (from requests>=2.19.0->pandas_datareader) (3.4.1)\n",
      "Requirement already satisfied: idna<4,>=2.5 in c:\\users\\aman\\appdata\\local\\programs\\python\\python313\\lib\\site-packages (from requests>=2.19.0->pandas_datareader) (3.10)\n",
      "Requirement already satisfied: urllib3<3,>=1.21.1 in c:\\users\\aman\\appdata\\local\\programs\\python\\python313\\lib\\site-packages (from requests>=2.19.0->pandas_datareader) (2.3.0)\n",
      "Requirement already satisfied: certifi>=2017.4.17 in c:\\users\\aman\\appdata\\local\\programs\\python\\python313\\lib\\site-packages (from requests>=2.19.0->pandas_datareader) (2024.12.14)\n",
      "Requirement already satisfied: six>=1.5 in c:\\users\\aman\\appdata\\local\\programs\\python\\python313\\lib\\site-packages (from python-dateutil>=2.8.2->pandas>=0.23->pandas_datareader) (1.17.0)\n"
     ]
    }
   ],
   "source": [
    "!pip install pandas_datareader"
   ]
  },
  {
   "cell_type": "code",
   "execution_count": 6,
   "id": "7e185cd7-054c-4355-b2db-e4b07a9cc2b8",
   "metadata": {},
   "outputs": [],
   "source": [
    "from pandas_datareader import data as wb"
   ]
  },
  {
   "cell_type": "code",
   "execution_count": 7,
   "id": "18be0248-6940-442a-b651-a441d6e56f12",
   "metadata": {},
   "outputs": [
    {
     "name": "stdout",
     "output_type": "stream",
     "text": [
      "Collecting yfinance\n",
      "  Downloading yfinance-0.2.51-py2.py3-none-any.whl.metadata (5.5 kB)\n",
      "Requirement already satisfied: pandas>=1.3.0 in c:\\users\\aman\\appdata\\local\\programs\\python\\python313\\lib\\site-packages (from yfinance) (2.2.3)\n",
      "Requirement already satisfied: numpy>=1.16.5 in c:\\users\\aman\\appdata\\local\\programs\\python\\python313\\lib\\site-packages (from yfinance) (2.2.1)\n",
      "Requirement already satisfied: requests>=2.31 in c:\\users\\aman\\appdata\\local\\programs\\python\\python313\\lib\\site-packages (from yfinance) (2.32.3)\n",
      "Collecting multitasking>=0.0.7 (from yfinance)\n",
      "  Downloading multitasking-0.0.11-py3-none-any.whl.metadata (5.5 kB)\n",
      "Requirement already satisfied: lxml>=4.9.1 in c:\\users\\aman\\appdata\\local\\programs\\python\\python313\\lib\\site-packages (from yfinance) (5.3.0)\n",
      "Requirement already satisfied: platformdirs>=2.0.0 in c:\\users\\aman\\appdata\\local\\programs\\python\\python313\\lib\\site-packages (from yfinance) (4.3.6)\n",
      "Requirement already satisfied: pytz>=2022.5 in c:\\users\\aman\\appdata\\local\\programs\\python\\python313\\lib\\site-packages (from yfinance) (2024.2)\n",
      "Collecting frozendict>=2.3.4 (from yfinance)\n",
      "  Downloading frozendict-2.4.6-py313-none-any.whl.metadata (23 kB)\n",
      "Collecting peewee>=3.16.2 (from yfinance)\n",
      "  Downloading peewee-3.17.8.tar.gz (948 kB)\n",
      "     ---------------------------------------- 0.0/948.2 kB ? eta -:--:--\n",
      "     ----------- ---------------------------- 262.1/948.2 kB ? eta -:--:--\n",
      "     ------------------------------- ------ 786.4/948.2 kB 1.8 MB/s eta 0:00:01\n",
      "     -------------------------------------- 948.2/948.2 kB 2.0 MB/s eta 0:00:00\n",
      "  Installing build dependencies: started\n",
      "  Installing build dependencies: finished with status 'done'\n",
      "  Getting requirements to build wheel: started\n",
      "  Getting requirements to build wheel: finished with status 'done'\n",
      "  Preparing metadata (pyproject.toml): started\n",
      "  Preparing metadata (pyproject.toml): finished with status 'done'\n",
      "Requirement already satisfied: beautifulsoup4>=4.11.1 in c:\\users\\aman\\appdata\\local\\programs\\python\\python313\\lib\\site-packages (from yfinance) (4.12.3)\n",
      "Collecting html5lib>=1.1 (from yfinance)\n",
      "  Downloading html5lib-1.1-py2.py3-none-any.whl.metadata (16 kB)\n",
      "Requirement already satisfied: soupsieve>1.2 in c:\\users\\aman\\appdata\\local\\programs\\python\\python313\\lib\\site-packages (from beautifulsoup4>=4.11.1->yfinance) (2.6)\n",
      "Requirement already satisfied: six>=1.9 in c:\\users\\aman\\appdata\\local\\programs\\python\\python313\\lib\\site-packages (from html5lib>=1.1->yfinance) (1.17.0)\n",
      "Requirement already satisfied: webencodings in c:\\users\\aman\\appdata\\local\\programs\\python\\python313\\lib\\site-packages (from html5lib>=1.1->yfinance) (0.5.1)\n",
      "Requirement already satisfied: python-dateutil>=2.8.2 in c:\\users\\aman\\appdata\\local\\programs\\python\\python313\\lib\\site-packages (from pandas>=1.3.0->yfinance) (2.9.0.post0)\n",
      "Requirement already satisfied: tzdata>=2022.7 in c:\\users\\aman\\appdata\\local\\programs\\python\\python313\\lib\\site-packages (from pandas>=1.3.0->yfinance) (2024.2)\n",
      "Requirement already satisfied: charset-normalizer<4,>=2 in c:\\users\\aman\\appdata\\local\\programs\\python\\python313\\lib\\site-packages (from requests>=2.31->yfinance) (3.4.1)\n",
      "Requirement already satisfied: idna<4,>=2.5 in c:\\users\\aman\\appdata\\local\\programs\\python\\python313\\lib\\site-packages (from requests>=2.31->yfinance) (3.10)\n",
      "Requirement already satisfied: urllib3<3,>=1.21.1 in c:\\users\\aman\\appdata\\local\\programs\\python\\python313\\lib\\site-packages (from requests>=2.31->yfinance) (2.3.0)\n",
      "Requirement already satisfied: certifi>=2017.4.17 in c:\\users\\aman\\appdata\\local\\programs\\python\\python313\\lib\\site-packages (from requests>=2.31->yfinance) (2024.12.14)\n",
      "Downloading yfinance-0.2.51-py2.py3-none-any.whl (104 kB)\n",
      "Downloading frozendict-2.4.6-py313-none-any.whl (16 kB)\n",
      "Downloading html5lib-1.1-py2.py3-none-any.whl (112 kB)\n",
      "Downloading multitasking-0.0.11-py3-none-any.whl (8.5 kB)\n",
      "Building wheels for collected packages: peewee\n",
      "  Building wheel for peewee (pyproject.toml): started\n",
      "  Building wheel for peewee (pyproject.toml): finished with status 'done'\n",
      "  Created wheel for peewee: filename=peewee-3.17.8-py3-none-any.whl size=139064 sha256=ee4a166b08a5883d8c162f50d99196aac1713350f62dc46528f8f4e4008b9dbf\n",
      "  Stored in directory: c:\\users\\aman\\appdata\\local\\pip\\cache\\wheels\\b2\\69\\9e\\5485afcc187c66def1fab96de510fa77da574ec5343f3a5f89\n",
      "Successfully built peewee\n",
      "Installing collected packages: peewee, multitasking, html5lib, frozendict, yfinance\n",
      "Successfully installed frozendict-2.4.6 html5lib-1.1 multitasking-0.0.11 peewee-3.17.8 yfinance-0.2.51\n"
     ]
    }
   ],
   "source": [
    "!pip install yfinance"
   ]
  },
  {
   "cell_type": "code",
   "execution_count": 8,
   "id": "62a25c20-ab52-40ff-8cbd-2dcad56dbdd1",
   "metadata": {},
   "outputs": [],
   "source": [
    "import yfinance as yf"
   ]
  },
  {
   "cell_type": "markdown",
   "id": "808269a1-c5b2-4e23-830a-932f5cf54bf2",
   "metadata": {},
   "source": [
    "### dataframe = yf.download('Ticker Name', start = 'date')"
   ]
  },
  {
   "cell_type": "code",
   "execution_count": 9,
   "id": "0ccddca0-d344-4e11-81f8-b6eab07fbd29",
   "metadata": {},
   "outputs": [
    {
     "name": "stderr",
     "output_type": "stream",
     "text": [
      "[*********************100%***********************]  1 of 1 completed\n"
     ]
    }
   ],
   "source": [
    "# Fetch historical data for Procter and Gamble (PG)\n",
    "pg = yf.download('PG', start = '1995-05-01')"
   ]
  },
  {
   "cell_type": "code",
   "execution_count": 10,
   "id": "4d07f5c5-48f3-4259-973d-6c1215f87932",
   "metadata": {},
   "outputs": [
    {
     "name": "stdout",
     "output_type": "stream",
     "text": [
      "Price          Close      High       Low      Open   Volume\n",
      "Ticker            PG        PG        PG        PG       PG\n",
      "Date                                                       \n",
      "1995-05-01  8.366206  8.441577  8.336058  8.441577  2811600\n",
      "1995-05-02  8.426498  8.426498  8.320979  8.351127  2176800\n",
      "1995-05-03  8.562164  8.562164  8.426496  8.426496  3689200\n",
      "1995-05-04  8.577237  8.682757  8.516940  8.592311  4086400\n",
      "1995-05-05  8.486793  8.607386  8.471718  8.607386  3028000\n"
     ]
    }
   ],
   "source": [
    "print (pg.head())"
   ]
  },
  {
   "cell_type": "code",
   "execution_count": 11,
   "id": "36f09a67-9f58-4ca7-a092-e146b78634ff",
   "metadata": {},
   "outputs": [
    {
     "data": {
      "text/html": [
       "<div>\n",
       "<style scoped>\n",
       "    .dataframe tbody tr th:only-of-type {\n",
       "        vertical-align: middle;\n",
       "    }\n",
       "\n",
       "    .dataframe tbody tr th {\n",
       "        vertical-align: top;\n",
       "    }\n",
       "\n",
       "    .dataframe thead tr th {\n",
       "        text-align: left;\n",
       "    }\n",
       "\n",
       "    .dataframe thead tr:last-of-type th {\n",
       "        text-align: right;\n",
       "    }\n",
       "</style>\n",
       "<table border=\"1\" class=\"dataframe\">\n",
       "  <thead>\n",
       "    <tr>\n",
       "      <th>Price</th>\n",
       "      <th>Close</th>\n",
       "      <th>High</th>\n",
       "      <th>Low</th>\n",
       "      <th>Open</th>\n",
       "      <th>Volume</th>\n",
       "    </tr>\n",
       "    <tr>\n",
       "      <th>Ticker</th>\n",
       "      <th>PG</th>\n",
       "      <th>PG</th>\n",
       "      <th>PG</th>\n",
       "      <th>PG</th>\n",
       "      <th>PG</th>\n",
       "    </tr>\n",
       "    <tr>\n",
       "      <th>Date</th>\n",
       "      <th></th>\n",
       "      <th></th>\n",
       "      <th></th>\n",
       "      <th></th>\n",
       "      <th></th>\n",
       "    </tr>\n",
       "  </thead>\n",
       "  <tbody>\n",
       "    <tr>\n",
       "      <th>2025-01-02</th>\n",
       "      <td>165.979996</td>\n",
       "      <td>168.710007</td>\n",
       "      <td>165.910004</td>\n",
       "      <td>168.089996</td>\n",
       "      <td>5401700</td>\n",
       "    </tr>\n",
       "    <tr>\n",
       "      <th>2025-01-03</th>\n",
       "      <td>165.130005</td>\n",
       "      <td>166.500000</td>\n",
       "      <td>164.250000</td>\n",
       "      <td>166.250000</td>\n",
       "      <td>5256600</td>\n",
       "    </tr>\n",
       "    <tr>\n",
       "      <th>2025-01-06</th>\n",
       "      <td>160.600006</td>\n",
       "      <td>163.500000</td>\n",
       "      <td>160.440002</td>\n",
       "      <td>162.809998</td>\n",
       "      <td>8731700</td>\n",
       "    </tr>\n",
       "    <tr>\n",
       "      <th>2025-01-07</th>\n",
       "      <td>161.300003</td>\n",
       "      <td>162.610001</td>\n",
       "      <td>160.740005</td>\n",
       "      <td>161.460007</td>\n",
       "      <td>8447400</td>\n",
       "    </tr>\n",
       "    <tr>\n",
       "      <th>2025-01-08</th>\n",
       "      <td>162.100006</td>\n",
       "      <td>162.399994</td>\n",
       "      <td>160.570007</td>\n",
       "      <td>160.990005</td>\n",
       "      <td>4971900</td>\n",
       "    </tr>\n",
       "  </tbody>\n",
       "</table>\n",
       "</div>"
      ],
      "text/plain": [
       "Price            Close        High         Low        Open   Volume\n",
       "Ticker              PG          PG          PG          PG       PG\n",
       "Date                                                               \n",
       "2025-01-02  165.979996  168.710007  165.910004  168.089996  5401700\n",
       "2025-01-03  165.130005  166.500000  164.250000  166.250000  5256600\n",
       "2025-01-06  160.600006  163.500000  160.440002  162.809998  8731700\n",
       "2025-01-07  161.300003  162.610001  160.740005  161.460007  8447400\n",
       "2025-01-08  162.100006  162.399994  160.570007  160.990005  4971900"
      ]
     },
     "execution_count": 11,
     "metadata": {},
     "output_type": "execute_result"
    }
   ],
   "source": [
    "pg.tail()"
   ]
  },
  {
   "cell_type": "code",
   "execution_count": 12,
   "id": "cbde5a48-dc22-493e-8dec-fe0989f6617c",
   "metadata": {},
   "outputs": [
    {
     "name": "stdout",
     "output_type": "stream",
     "text": [
      "Collecting alpha_vantage\n",
      "  Downloading alpha_vantage-3.0.0-py3-none-any.whl.metadata (12 kB)\n",
      "Collecting aiohttp (from alpha_vantage)\n",
      "  Downloading aiohttp-3.11.11-cp313-cp313-win_amd64.whl.metadata (8.0 kB)\n",
      "Requirement already satisfied: requests in c:\\users\\aman\\appdata\\local\\programs\\python\\python313\\lib\\site-packages (from alpha_vantage) (2.32.3)\n",
      "Collecting aiohappyeyeballs>=2.3.0 (from aiohttp->alpha_vantage)\n",
      "  Downloading aiohappyeyeballs-2.4.4-py3-none-any.whl.metadata (6.1 kB)\n",
      "Collecting aiosignal>=1.1.2 (from aiohttp->alpha_vantage)\n",
      "  Downloading aiosignal-1.3.2-py2.py3-none-any.whl.metadata (3.8 kB)\n",
      "Requirement already satisfied: attrs>=17.3.0 in c:\\users\\aman\\appdata\\local\\programs\\python\\python313\\lib\\site-packages (from aiohttp->alpha_vantage) (24.3.0)\n",
      "Collecting frozenlist>=1.1.1 (from aiohttp->alpha_vantage)\n",
      "  Downloading frozenlist-1.5.0-cp313-cp313-win_amd64.whl.metadata (14 kB)\n",
      "Collecting multidict<7.0,>=4.5 (from aiohttp->alpha_vantage)\n",
      "  Downloading multidict-6.1.0-cp313-cp313-win_amd64.whl.metadata (5.1 kB)\n",
      "Collecting propcache>=0.2.0 (from aiohttp->alpha_vantage)\n",
      "  Downloading propcache-0.2.1-cp313-cp313-win_amd64.whl.metadata (9.5 kB)\n",
      "Collecting yarl<2.0,>=1.17.0 (from aiohttp->alpha_vantage)\n",
      "  Downloading yarl-1.18.3-cp313-cp313-win_amd64.whl.metadata (71 kB)\n",
      "Requirement already satisfied: charset-normalizer<4,>=2 in c:\\users\\aman\\appdata\\local\\programs\\python\\python313\\lib\\site-packages (from requests->alpha_vantage) (3.4.1)\n",
      "Requirement already satisfied: idna<4,>=2.5 in c:\\users\\aman\\appdata\\local\\programs\\python\\python313\\lib\\site-packages (from requests->alpha_vantage) (3.10)\n",
      "Requirement already satisfied: urllib3<3,>=1.21.1 in c:\\users\\aman\\appdata\\local\\programs\\python\\python313\\lib\\site-packages (from requests->alpha_vantage) (2.3.0)\n",
      "Requirement already satisfied: certifi>=2017.4.17 in c:\\users\\aman\\appdata\\local\\programs\\python\\python313\\lib\\site-packages (from requests->alpha_vantage) (2024.12.14)\n",
      "Downloading alpha_vantage-3.0.0-py3-none-any.whl (35 kB)\n",
      "Downloading aiohttp-3.11.11-cp313-cp313-win_amd64.whl (436 kB)\n",
      "Downloading aiohappyeyeballs-2.4.4-py3-none-any.whl (14 kB)\n",
      "Downloading aiosignal-1.3.2-py2.py3-none-any.whl (7.6 kB)\n",
      "Downloading frozenlist-1.5.0-cp313-cp313-win_amd64.whl (51 kB)\n",
      "Downloading multidict-6.1.0-cp313-cp313-win_amd64.whl (28 kB)\n",
      "Downloading propcache-0.2.1-cp313-cp313-win_amd64.whl (43 kB)\n",
      "Downloading yarl-1.18.3-cp313-cp313-win_amd64.whl (315 kB)\n",
      "Installing collected packages: propcache, multidict, frozenlist, aiohappyeyeballs, yarl, aiosignal, aiohttp, alpha_vantage\n",
      "Successfully installed aiohappyeyeballs-2.4.4 aiohttp-3.11.11 aiosignal-1.3.2 alpha_vantage-3.0.0 frozenlist-1.5.0 multidict-6.1.0 propcache-0.2.1 yarl-1.18.3\n"
     ]
    }
   ],
   "source": [
    "!pip install alpha_vantage"
   ]
  },
  {
   "cell_type": "code",
   "execution_count": 13,
   "id": "a0c72db1-857e-4442-bddf-f171fa2a988c",
   "metadata": {},
   "outputs": [],
   "source": [
    "# Define list of tickers for multiple companies data\n",
    "tickers = ['PG','MSFT','T','F','GE']"
   ]
  },
  {
   "cell_type": "code",
   "execution_count": 16,
   "id": "528541e1-b3e0-42e2-af2f-b0a2da058eb2",
   "metadata": {},
   "outputs": [
    {
     "name": "stderr",
     "output_type": "stream",
     "text": [
      "[*********************100%***********************]  5 of 5 completed\n"
     ]
    }
   ],
   "source": [
    "new_data = yf.download(tickers, start = '2015-01-01')['Close']"
   ]
  },
  {
   "cell_type": "code",
   "execution_count": 17,
   "id": "489053b9-5ef4-48b4-ae2c-6dcbd9e082a9",
   "metadata": {},
   "outputs": [
    {
     "data": {
      "text/html": [
       "<div>\n",
       "<style scoped>\n",
       "    .dataframe tbody tr th:only-of-type {\n",
       "        vertical-align: middle;\n",
       "    }\n",
       "\n",
       "    .dataframe tbody tr th {\n",
       "        vertical-align: top;\n",
       "    }\n",
       "\n",
       "    .dataframe thead th {\n",
       "        text-align: right;\n",
       "    }\n",
       "</style>\n",
       "<table border=\"1\" class=\"dataframe\">\n",
       "  <thead>\n",
       "    <tr style=\"text-align: right;\">\n",
       "      <th>Ticker</th>\n",
       "      <th>F</th>\n",
       "      <th>GE</th>\n",
       "      <th>MSFT</th>\n",
       "      <th>PG</th>\n",
       "      <th>T</th>\n",
       "    </tr>\n",
       "    <tr>\n",
       "      <th>Date</th>\n",
       "      <th></th>\n",
       "      <th></th>\n",
       "      <th></th>\n",
       "      <th></th>\n",
       "      <th></th>\n",
       "    </tr>\n",
       "  </thead>\n",
       "  <tbody>\n",
       "    <tr>\n",
       "      <th>2025-01-02</th>\n",
       "      <td>9.65</td>\n",
       "      <td>168.589996</td>\n",
       "      <td>418.579987</td>\n",
       "      <td>165.979996</td>\n",
       "      <td>22.830000</td>\n",
       "    </tr>\n",
       "    <tr>\n",
       "      <th>2025-01-03</th>\n",
       "      <td>9.88</td>\n",
       "      <td>171.960007</td>\n",
       "      <td>423.350006</td>\n",
       "      <td>165.130005</td>\n",
       "      <td>22.670000</td>\n",
       "    </tr>\n",
       "    <tr>\n",
       "      <th>2025-01-06</th>\n",
       "      <td>9.92</td>\n",
       "      <td>172.449997</td>\n",
       "      <td>427.850006</td>\n",
       "      <td>160.600006</td>\n",
       "      <td>22.600000</td>\n",
       "    </tr>\n",
       "    <tr>\n",
       "      <th>2025-01-07</th>\n",
       "      <td>9.76</td>\n",
       "      <td>172.309998</td>\n",
       "      <td>422.369995</td>\n",
       "      <td>161.300003</td>\n",
       "      <td>22.200001</td>\n",
       "    </tr>\n",
       "    <tr>\n",
       "      <th>2025-01-08</th>\n",
       "      <td>9.74</td>\n",
       "      <td>172.889999</td>\n",
       "      <td>424.559998</td>\n",
       "      <td>162.100006</td>\n",
       "      <td>22.180000</td>\n",
       "    </tr>\n",
       "  </tbody>\n",
       "</table>\n",
       "</div>"
      ],
      "text/plain": [
       "Ticker         F          GE        MSFT          PG          T\n",
       "Date                                                           \n",
       "2025-01-02  9.65  168.589996  418.579987  165.979996  22.830000\n",
       "2025-01-03  9.88  171.960007  423.350006  165.130005  22.670000\n",
       "2025-01-06  9.92  172.449997  427.850006  160.600006  22.600000\n",
       "2025-01-07  9.76  172.309998  422.369995  161.300003  22.200001\n",
       "2025-01-08  9.74  172.889999  424.559998  162.100006  22.180000"
      ]
     },
     "execution_count": 17,
     "metadata": {},
     "output_type": "execute_result"
    }
   ],
   "source": [
    "new_data.tail()"
   ]
  },
  {
   "cell_type": "code",
   "execution_count": 18,
   "id": "89a62119-ee14-45e5-8876-14ef822715c6",
   "metadata": {},
   "outputs": [
    {
     "name": "stdout",
     "output_type": "stream",
     "text": [
      "Ticker             F          GE       MSFT         PG          T\n",
      "Date                                                             \n",
      "2015-01-02  9.160244  103.164444  40.152481  68.275772  12.180074\n",
      "2015-01-05  8.802423  101.270752  39.783249  67.951149  12.064994\n",
      "2015-01-06  8.718931   99.088913  39.199333  67.641640  12.082974\n",
      "2015-01-07  8.969405   99.130081  39.697376  67.996452  12.153426\n",
      "2015-01-08  9.196025  100.323936  40.865204  68.774017  12.274339\n"
     ]
    }
   ],
   "source": [
    "print(new_data.head())"
   ]
  },
  {
   "cell_type": "code",
   "execution_count": null,
   "id": "dec2e4f3-ec01-482b-8367-07406807f86f",
   "metadata": {},
   "outputs": [],
   "source": []
  }
 ],
 "metadata": {
  "kernelspec": {
   "display_name": "Python 3 (ipykernel)",
   "language": "python",
   "name": "python3"
  },
  "language_info": {
   "codemirror_mode": {
    "name": "ipython",
    "version": 3
   },
   "file_extension": ".py",
   "mimetype": "text/x-python",
   "name": "python",
   "nbconvert_exporter": "python",
   "pygments_lexer": "ipython3",
   "version": "3.13.1"
  }
 },
 "nbformat": 4,
 "nbformat_minor": 5
}
